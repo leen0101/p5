{
 "cells": [
  {
   "cell_type": "markdown",
   "metadata": {},
   "source": [
    "# Notebook exploration et traitement\n",
    "Ce notebook se dédie à configurer l'environnement mlflow. Prépare l'echantillon. Nettoie les parties textes des titres et des messages. Rassemble les tags les plus récurrents sous forme de liste de 20 tags.\n",
    "\n",
    "Il a une partie ou le texte est réduit en Bag of Word. \n",
    "Réduit en principaux composants, en vecteur avec SVD. Le résultat est enregistré dans mlflow.\n",
    "\n",
    "Une deuxieme partie ou les textes sont transformés en Word2vec. Le resultat est enregistré dans mlflow pour un usage ultérieur.\n",
    "\n",
    "Une troisieme partie test avec un model pré-entrainé avec Universal Sentence Encoder.\n",
    "Enregistré dans mlflow.\n"
   ]
  },
  {
   "cell_type": "code",
   "execution_count": 1,
   "metadata": {},
   "outputs": [
    {
     "name": "stdout",
     "output_type": "stream",
     "text": [
      "WARNING:tensorflow:From c:\\Users\\leenc\\Documents\\openclassrooms\\p5\\.venv\\Lib\\site-packages\\tf_keras\\src\\losses.py:2976: The name tf.losses.sparse_softmax_cross_entropy is deprecated. Please use tf.compat.v1.losses.sparse_softmax_cross_entropy instead.\n",
      "\n",
      "Tracking URI: https://mlflowp51-975919512217.us-central1.run.app\n"
     ]
    }
   ],
   "source": [
    "import pandas as pd\n",
    "import re\n",
    "import matplotlib.pyplot as plt\n",
    "import seaborn as sns\n",
    "from sklearn.feature_extraction.text import CountVectorizer\n",
    "from sklearn.decomposition import TruncatedSVD\n",
    "from sklearn.preprocessing import MultiLabelBinarizer\n",
    "import mlflow\n",
    "import mlflow.keras\n",
    "from nltk.tokenize import word_tokenize\n",
    "from nltk.corpus import stopwords\n",
    "from nltk.stem import WordNetLemmatizer\n",
    "from gensim.models import Word2Vec\n",
    "import numpy as np\n",
    "import tensorflow_hub as hub\n",
    "import os\n",
    "import tensorflow as tf\n",
    "import pickle\n",
    "from sklearn.model_selection import train_test_split\n",
    "from dotenv import load_dotenv\n",
    "\n",
    "# Charge les variables d'environnement et configure MLflow\n",
    "load_dotenv()\n",
    "tracking_uri = \"https://mlflowp51-975919512217.us-central1.run.app\"\n",
    "mlflow.set_tracking_uri(tracking_uri)\n",
    "mlflow.set_tracking_uri(tracking_uri)\n",
    "mlflow.set_experiment(\"Text_Processing_Experiment\")\n",
    "\n",
    "print(\"Tracking URI:\", mlflow.get_tracking_uri())\n",
    "\n",
    "import os\n",
    "os.environ[\"GOOGLE_APPLICATION_CREDENTIALS\"] = \"../f8bc1d91ca98.json\"\n"
   ]
  },
  {
   "cell_type": "code",
   "execution_count": 2,
   "metadata": {},
   "outputs": [
    {
     "name": "stdout",
     "output_type": "stream",
     "text": [
      "                                               Title  \\\n",
      "0  C++ function template specialization based on ...   \n",
      "1   How can I write a std::apply on a std::expected?   \n",
      "2  App must target Android 14 (API level 34) or h...   \n",
      "3  Efficiently find the number of different class...   \n",
      "4  Get the first and last number occuring in a (t...   \n",
      "\n",
      "                                                Body  \\\n",
      "0  <p>In C++20, instead of doing</p>\\n<pre><code>...   \n",
      "1  <p>In C++23, given:</p>\\n<pre><code>expected&l...   \n",
      "2  <p>I updated the target API level (targetsdkve...   \n",
      "3  <p>I have been stuck with computing efficientl...   \n",
      "4  <div class=\"s-table-container\"><table class=\"s...   \n",
      "\n",
      "                                                Tags        Id  Score  \\\n",
      "0  <c++><templates><overloading><template-special...  78744341      1   \n",
      "1  <c++><functional-programming><monads><c++23><s...  78734779     15   \n",
      "2  <flutter><upgrade><google-play-console><androi...  78729452      1   \n",
      "3                     <r><performance><join><igraph>  78726835      6   \n",
      "4                             <excel><excel-formula>  78714147      1   \n",
      "\n",
      "   ViewCount  FavoriteCount  AnswerCount         CreationDate  \n",
      "0         74            NaN            6  2024-07-13 15:57:14  \n",
      "1       1194            NaN            7  2024-07-11 09:47:39  \n",
      "2       1724            NaN            6  2024-07-10 08:36:08  \n",
      "3        221            NaN            7  2024-07-09 16:49:31  \n",
      "4        121            NaN            6  2024-07-06 07:06:30  \n"
     ]
    }
   ],
   "source": [
    "df = pd.read_csv('db/questions_db.csv')\n",
    "print(df.head())\n",
    "\n",
    "# Réduit l'échantillon\n",
    "df = df.sample(frac=0.1, random_state=42)\n",
    "\n",
    "# Supprime une colonne (temporairement)\n",
    "del df['FavoriteCount']  "
   ]
  },
  {
   "cell_type": "code",
   "execution_count": 3,
   "metadata": {},
   "outputs": [
    {
     "name": "stderr",
     "output_type": "stream",
     "text": [
      "2024/10/06 16:49:11 INFO mlflow.tracking._tracking_service.client: 🏃 View run Text Cleaning and Features at: https://mlflowp51-975919512217.us-central1.run.app/#/experiments/1/runs/53bfede0e0e44a67b57f304b0bd1b954.\n",
      "2024/10/06 16:49:11 INFO mlflow.tracking._tracking_service.client: 🧪 View experiment at: https://mlflowp51-975919512217.us-central1.run.app/#/experiments/1.\n"
     ]
    },
    {
     "name": "stdout",
     "output_type": "stream",
     "text": [
      "Données nettoyées et features ajoutées avec succès.\n"
     ]
    }
   ],
   "source": [
    "\n",
    "# Nettoie les colonnes 'Title' et 'Body'\n",
    "def clean_text(text):\n",
    "    if isinstance(text, str):\n",
    "        # Supprime les balises HTML et leur contenu\n",
    "        text = re.sub(r'<[^>]*>', '', text)  \n",
    "        \n",
    "        # Supprime les caractères spéciaux qui ne sont pas des lettres ou des espaces\n",
    "        text = re.sub(r'[^a-zA-Z\\s]', '', text)  \n",
    "        \n",
    "        # Supprime les mots de 2 lettres ou moins\n",
    "        return ' '.join([word for word in text.split() if len(word) > 2])  \n",
    "    return text\n",
    "\n",
    "# Nettoyage des titres et corps\n",
    "df['Cleaned_Title'] = df['Title'].apply(clean_text)\n",
    "df['Cleaned_Body'] = df['Body'].apply(clean_text)\n",
    "\n",
    "# Ajout des nouvelles features\n",
    "def add_features(df):\n",
    "    df['Title_length'] = df['Title'].apply(lambda x: len(x.split()) if isinstance(x, str) else 0)\n",
    "    df['Body_word_count'] = df['Body'].apply(lambda x: len(x.split()) if isinstance(x, str) else 0)\n",
    "    df['Tag_count'] = df['Tags'].apply(lambda x: len(x) if isinstance(x, list) else 0)\n",
    "    return df\n",
    "\n",
    "df = add_features(df)\n",
    "\n",
    "# Suivi MLflow pour nettoyage de texte et extraction de features\n",
    "with mlflow.start_run(run_name=\"Text Cleaning and Features\"):\n",
    "    mlflow.log_param(\"num_rows\", len(df))\n",
    "    mlflow.log_param(\"num_columns\", df.shape[1])\n",
    "\n",
    "    # Log d'un échantillon des données nettoyées\n",
    "    sample_cleaned = df[['Title', 'Cleaned_Title', 'Body', 'Cleaned_Body']].head(10)\n",
    "    sample_cleaned.to_csv(\"cleaned_data_sample.csv\", index=False)\n",
    "    mlflow.log_artifact(\"cleaned_data_sample.csv\")\n",
    "\n",
    "    print(\"Données nettoyées et features ajoutées avec succès.\")\n",
    "mlflow.end_run()\n"
   ]
  },
  {
   "cell_type": "code",
   "execution_count": 4,
   "metadata": {},
   "outputs": [],
   "source": [
    "def process_tags(tags):\n",
    "    if isinstance(tags, str):\n",
    "        return tags.strip('<>').split('><')\n",
    "    else:\n",
    "        return []\n",
    "\n",
    "df['Tags'] = df['Tags'].apply(process_tags)\n"
   ]
  },
  {
   "cell_type": "code",
   "execution_count": 5,
   "metadata": {},
   "outputs": [
    {
     "name": "stdout",
     "output_type": "stream",
     "text": [
      "Nombre total de tags extraits: 14944\n",
      "['javascript', 'python', 'android', 'java', 'reactjs', 'html', 'flutter', 'arrays', 'css', 'angular', 'node.js', 'c#', 'python-3.x', 'dart', 'php', 'typescript', 'ios', 'react-native', 'jquery', 'list']\n"
     ]
    },
    {
     "data": {
      "image/png": "[encoded data removed]",
      "text/plain": [
       "<Figure size 1200x1800 with 1 Axes>"
      ]
     },
     "metadata": {},
     "output_type": "display_data"
    }
   ],
   "source": [
    "# Extraction des tags et sélection des 50 plus fréquents\n",
    "all_tags = [tag for tags in df['Tags'] for tag in tags]\n",
    "\n",
    "if all_tags:\n",
    "    print(f\"Nombre total de tags extraits: {len(all_tags)}\")\n",
    "else:\n",
    "    print(\"Erreur : Aucun tag n'a été extrait\")\n",
    "\n",
    "tag_counts = pd.Series(all_tags).value_counts().head(20)\n",
    "top_tags = list(tag_counts.index)\n",
    "\n",
    "    # Filtrage des questions avec les top 50 tags\n",
    "df['Filtered_Tags'] = df['Tags'].apply(lambda tags: [tag for tag in tags if tag in top_tags])\n",
    "df = df[df['Filtered_Tags'].apply(lambda x: len(x) > 0)]\n",
    "\n",
    "print(top_tags)\n",
    "plt.figure(figsize=(12, 18))\n",
    "sns.barplot(x=tag_counts.values, y=tag_counts.index)\n",
    "plt.title('Top 50 des Tags les plus fréquents')\n",
    "plt.xlabel('Fréquence')\n",
    "plt.ylabel('Tags')\n",
    "plt.show()\n"
   ]
  },
  {
   "cell_type": "code",
   "execution_count": 6,
   "metadata": {},
   "outputs": [
    {
     "name": "stderr",
     "output_type": "stream",
     "text": [
      "2024/10/06 16:49:21 INFO mlflow.tracking._tracking_service.client: 🏃 View run BoW Transformation at: https://mlflowp51-975919512217.us-central1.run.app/#/experiments/1/runs/ad29f28165bb44dba2fe3ecae073e38e.\n",
      "2024/10/06 16:49:21 INFO mlflow.tracking._tracking_service.client: 🧪 View experiment at: https://mlflowp51-975919512217.us-central1.run.app/#/experiments/1.\n"
     ]
    }
   ],
   "source": [
    "# Transformation en BoW\n",
    "def transform_text_to_bow(df, max_df=0.95, min_df=2, n_components=50):  # Réduction des composants\n",
    "    vectorizer = CountVectorizer(max_df=max_df, min_df=min_df)\n",
    "    X = vectorizer.fit_transform(df['Cleaned_Body'])\n",
    "    svd = TruncatedSVD(n_components=n_components)\n",
    "    X_reduced = svd.fit_transform(X)\n",
    "    mlb = MultiLabelBinarizer(classes=top_tags)\n",
    "    y = mlb.fit_transform(df['Filtered_Tags'])\n",
    "    return X_reduced, y, vectorizer, svd, mlb\n",
    "\n",
    "\n",
    "# Suivi MLflow pour BoW\n",
    "with mlflow.start_run(run_name=\"BoW Transformation\"):\n",
    "    X_reduced, y, vectorizer, svd, mlb = transform_text_to_bow(df)\n",
    "\n",
    "    # Log de la variance expliquée par SVD\n",
    "    explained_variance = svd.explained_variance_ratio_.sum()\n",
    "    mlflow.log_metric(\"explained_variance\", explained_variance)\n",
    "    \n",
    "    # Log des dimensions des matrices après réduction\n",
    "    mlflow.log_metric(\"X_reduced_num_rows\", X_reduced.shape[0])\n",
    "    mlflow.log_metric(\"X_reduced_num_columns\", X_reduced.shape[1])\n",
    "    mlflow.log_metric(\"num_labels\", y.shape[1])\n",
    "\n",
    "    os.makedirs(\"model\", exist_ok=True)\n",
    "\n",
    "    # Enregistrement des objets comme artefacts\n",
    "    with open(\"model/vectorizer.pkl\", 'wb') as f:\n",
    "        pickle.dump(vectorizer, f)\n",
    "    with open(\"model/svd.pkl\", 'wb') as f:\n",
    "        pickle.dump(svd, f)\n",
    "    with open(\"model/mlb.pkl\", 'wb') as f:\n",
    "        pickle.dump(mlb, f)\n",
    "\n",
    "    mlflow.log_artifact(\"model/vectorizer.pkl\")\n",
    "    mlflow.log_artifact(\"model/svd.pkl\")\n",
    "    mlflow.log_artifact(\"model/mlb.pkl\")\n",
    "mlflow.end_run()\n",
    "\n"
   ]
  },
  {
   "cell_type": "code",
   "execution_count": 7,
   "metadata": {},
   "outputs": [
    {
     "name": "stderr",
     "output_type": "stream",
     "text": [
      "2024/10/06 16:49:39 INFO mlflow.tracking._tracking_service.client: 🏃 View run Word2Vec Training at: https://mlflowp51-975919512217.us-central1.run.app/#/experiments/1/runs/65568803de664c1283ac444464f51c39.\n",
      "2024/10/06 16:49:39 INFO mlflow.tracking._tracking_service.client: 🧪 View experiment at: https://mlflowp51-975919512217.us-central1.run.app/#/experiments/1.\n"
     ]
    }
   ],
   "source": [
    "def train_word2vec(df, column='Cleaned_Body', vector_size=50, window=5, min_count=3, workers=4):\n",
    "    sentences = df[column].apply(word_tokenize).tolist()\n",
    "    word2vec_model = Word2Vec(sentences, vector_size=vector_size, window=window, min_count=min_count, workers=workers)\n",
    "\n",
    "    def document_vector(doc):\n",
    "        doc = [word for word in doc if word in word2vec_model.wv.index_to_key]\n",
    "        return np.mean(word2vec_model.wv[doc], axis=0) if doc else np.zeros(vector_size)\n",
    "\n",
    "    df['word2vec_vector'] = df[column].apply(lambda x: document_vector(word_tokenize(x)))\n",
    "    X_word2vec = np.vstack(df['word2vec_vector'].values)\n",
    "\n",
    "    word2vec_model.save(\"model/word2vec_model.model\")\n",
    "    return X_word2vec, \"model/word2vec_model.model\"\n",
    "\n",
    "# Suivi MLflow pour Word2Vec\n",
    "with mlflow.start_run(run_name=\"Word2Vec Training\"):\n",
    "    X_word2vec, model_path = train_word2vec(df, column='Cleaned_Body')\n",
    "\n",
    "    # Log de la taille des vecteurs Word2Vec\n",
    "    mlflow.log_metric(\"word2vec_num_rows\", X_word2vec.shape[0])\n",
    "    mlflow.log_metric(\"word2vec_num_columns\", X_word2vec.shape[1])\n",
    "\n",
    "    # Log de la taille moyenne des vecteurs générés\n",
    "    vector_lengths = np.linalg.norm(X_word2vec, axis=1)\n",
    "    mlflow.log_metric(\"mean_vector_length\", np.mean(vector_lengths))\n",
    "    mlflow.log_metric(\"std_vector_length\", np.std(vector_lengths))\n",
    "\n",
    "    mlflow.log_artifact(model_path, artifact_path=\"models/word2vec_model\")\n",
    "mlflow.end_run()\n",
    "\n"
   ]
  },
  {
   "cell_type": "code",
   "execution_count": 8,
   "metadata": {},
   "outputs": [
    {
     "name": "stderr",
     "output_type": "stream",
     "text": [
      "INFO:absl:Using C:\\Users\\leenc\\AppData\\Local\\Temp\\tfhub_modules to cache modules.\n"
     ]
    },
    {
     "name": "stdout",
     "output_type": "stream",
     "text": [
      "WARNING:tensorflow:From c:\\Users\\leenc\\Documents\\openclassrooms\\p5\\.venv\\Lib\\site-packages\\tensorflow_hub\\resolver.py:120: The name tf.gfile.MakeDirs is deprecated. Please use tf.io.gfile.makedirs instead.\n",
      "\n"
     ]
    },
    {
     "name": "stderr",
     "output_type": "stream",
     "text": [
      "WARNING:tensorflow:From c:\\Users\\leenc\\Documents\\openclassrooms\\p5\\.venv\\Lib\\site-packages\\tensorflow_hub\\resolver.py:120: The name tf.gfile.MakeDirs is deprecated. Please use tf.io.gfile.makedirs instead.\n",
      "\n"
     ]
    },
    {
     "name": "stdout",
     "output_type": "stream",
     "text": [
      "WARNING:tensorflow:From c:\\Users\\leenc\\Documents\\openclassrooms\\p5\\.venv\\Lib\\site-packages\\tensorflow_hub\\module_v2.py:126: The name tf.saved_model.load_v2 is deprecated. Please use tf.compat.v2.saved_model.load instead.\n",
      "\n"
     ]
    },
    {
     "name": "stderr",
     "output_type": "stream",
     "text": [
      "WARNING:tensorflow:From c:\\Users\\leenc\\Documents\\openclassrooms\\p5\\.venv\\Lib\\site-packages\\tensorflow_hub\\module_v2.py:126: The name tf.saved_model.load_v2 is deprecated. Please use tf.compat.v2.saved_model.load instead.\n",
      "\n",
      "INFO:absl:Fingerprint not found. Saved model loading will continue.\n",
      "INFO:absl:path_and_singleprint metric could not be logged. Saved model loading will continue.\n"
     ]
    },
    {
     "name": "stdout",
     "output_type": "stream",
     "text": [
      "WARNING:tensorflow:From c:\\Users\\leenc\\Documents\\openclassrooms\\p5\\.venv\\Lib\\site-packages\\tf_keras\\src\\backend.py:873: The name tf.get_default_graph is deprecated. Please use tf.compat.v1.get_default_graph instead.\n",
      "\n"
     ]
    },
    {
     "name": "stderr",
     "output_type": "stream",
     "text": [
      "WARNING:tensorflow:From c:\\Users\\leenc\\Documents\\openclassrooms\\p5\\.venv\\Lib\\site-packages\\tf_keras\\src\\backend.py:873: The name tf.get_default_graph is deprecated. Please use tf.compat.v1.get_default_graph instead.\n",
      "\n",
      "INFO:root:Chargement des embeddings depuis embeddings.npy.\n",
      "c:\\Users\\leenc\\Documents\\openclassrooms\\p5\\.venv\\Lib\\site-packages\\keras\\src\\layers\\core\\dense.py:87: UserWarning: Do not pass an `input_shape`/`input_dim` argument to a layer. When using Sequential models, prefer using an `Input(shape)` object as the first layer in the model instead.\n",
      "  super().__init__(activity_regularizer=activity_regularizer, **kwargs)\n"
     ]
    },
    {
     "name": "stdout",
     "output_type": "stream",
     "text": [
      "\u001b[1m1/1\u001b[0m \u001b[32m━━━━━━━━━━━━━━━━━━━━\u001b[0m\u001b[37m\u001b[0m \u001b[1m1s\u001b[0m 1s/step - accuracy: 0.0333 - loss: 0.6928 - val_accuracy: 0.0000e+00 - val_loss: 0.6923\n",
      "\u001b[1m1/1\u001b[0m \u001b[32m━━━━━━━━━━━━━━━━━━━━\u001b[0m\u001b[37m\u001b[0m \u001b[1m0s\u001b[0m 50ms/step\n"
     ]
    },
    {
     "name": "stderr",
     "output_type": "stream",
     "text": [
      "c:\\Users\\leenc\\Documents\\openclassrooms\\p5\\.venv\\Lib\\site-packages\\sklearn\\metrics\\_classification.py:1531: UndefinedMetricWarning: Precision is ill-defined and being set to 0.0 in labels with no predicted samples. Use `zero_division` parameter to control this behavior.\n",
      "  _warn_prf(average, modifier, f\"{metric.capitalize()} is\", len(result))\n",
      "c:\\Users\\leenc\\Documents\\openclassrooms\\p5\\.venv\\Lib\\site-packages\\sklearn\\metrics\\_classification.py:1531: UndefinedMetricWarning: Recall is ill-defined and being set to 0.0 in labels with no true samples. Use `zero_division` parameter to control this behavior.\n",
      "  _warn_prf(average, modifier, f\"{metric.capitalize()} is\", len(result))\n",
      "c:\\Users\\leenc\\Documents\\openclassrooms\\p5\\.venv\\Lib\\site-packages\\sklearn\\metrics\\_classification.py:1531: UndefinedMetricWarning: F-score is ill-defined and being set to 0.0 in labels with no true nor predicted samples. Use `zero_division` parameter to control this behavior.\n",
      "  _warn_prf(average, modifier, f\"{metric.capitalize()} is\", len(result))\n",
      "2024/10/06 16:49:46 WARNING mlflow.keras.save: You are saving a Keras model without specifying model signature.\n",
      "2024/10/06 16:49:55 WARNING mlflow.models.model: Input example should be provided to infer model signature if the model signature is not provided when logging the model.\n",
      "2024/10/06 16:49:56 INFO mlflow.tracking._tracking_service.client: 🏃 View run USE Training Optimized with Metrics at: https://mlflowp51-975919512217.us-central1.run.app/#/experiments/1/runs/ecdbc94514aa4eda88fc82212526b6d8.\n",
      "2024/10/06 16:49:56 INFO mlflow.tracking._tracking_service.client: 🧪 View experiment at: https://mlflowp51-975919512217.us-central1.run.app/#/experiments/1.\n",
      "INFO:root:Modèle entraîné et suivi dans MLflow avec les métriques enrichies.\n"
     ]
    },
    {
     "name": "stdout",
     "output_type": "stream",
     "text": [
      "Exemple d'embeddings USE :\n",
      "[[-0.06617208  0.02476599  0.01110613 ...  0.07282789 -0.01593303\n",
      "  -0.07097346]\n",
      " [-0.04433645 -0.03264523 -0.02808888 ...  0.06767163 -0.02526903\n",
      "  -0.06775778]]\n",
      "Shape des embeddings USE : (38, 512)\n"
     ]
    }
   ],
   "source": [
    "import os\n",
    "import numpy as np\n",
    "import tensorflow_hub as hub\n",
    "import tensorflow as tf\n",
    "from sklearn.model_selection import train_test_split\n",
    "from sklearn.metrics import accuracy_score, precision_score, recall_score, f1_score\n",
    "import mlflow\n",
    "import logging\n",
    "\n",
    "# Configure le logging\n",
    "logging.basicConfig(level=logging.INFO)\n",
    "\n",
    "# Utilise les titres nettoyés (on supprime ceux qui sont vides)\n",
    "df_cleaned_Body = [body for body in df['Cleaned_Body'].tolist() if body.strip()]\n",
    "\n",
    "# Charge le modèle USE depuis TensorFlow Hub\n",
    "model_url = \"https://tfhub.dev/google/universal-sentence-encoder/4\"\n",
    "use_layer = hub.KerasLayer(model_url, trainable=False)\n",
    "\n",
    "# Génére les embeddings par lots (pour éviter de tout calculer d'un coup)\n",
    "def generate_embeddings_in_batches(texts, batch_size=100):\n",
    "    embeddings = []\n",
    "    for i in range(0, len(texts), batch_size):\n",
    "        logging.info(f\"Traitement du lot {i//batch_size + 1}\")\n",
    "        batch_embeddings = use_layer(texts[i:i+batch_size])\n",
    "        embeddings.append(np.array(batch_embeddings))\n",
    "    return np.vstack(embeddings)\n",
    "\n",
    "# Vérifie si les embeddings sont déjà sauvegardés, sinon les calculer\n",
    "embeddings_file = 'embeddings.npy'\n",
    "if not os.path.exists(embeddings_file):\n",
    "    logging.info(\"Calcul des embeddings...\")\n",
    "    X_use_np = generate_embeddings_in_batches(df_cleaned_Body, batch_size=100)\n",
    "    np.save(embeddings_file, X_use_np)  # Sauvegarde les embeddings\n",
    "    logging.info(f\"Embeddings sauvegardés dans {embeddings_file}.\")\n",
    "else:\n",
    "    logging.info(f\"Chargement des embeddings depuis {embeddings_file}.\")\n",
    "    X_use_np = np.load(embeddings_file)\n",
    "\n",
    "y_filtered = y[:len(X_use_np)] \n",
    "# Divise les données en entraînement (80%) et test (20%)\n",
    "X_train, X_test, y_train, y_test = train_test_split(X_use_np, y_filtered, test_size=0.2, random_state=42)\n",
    "\n",
    "# Définit un modèle simple avec 2 couches denses\n",
    "model_use = tf.keras.Sequential([\n",
    "    tf.keras.layers.Dense(8, activation='relu', input_shape=(X_use_np.shape[1],)),  # 8 neurones\n",
    "    tf.keras.layers.Dropout(0.2),  # Dropout pour éviter le surapprentissage\n",
    "    tf.keras.layers.Dense(4, activation='relu'),  # 4 neurones\n",
    "    tf.keras.layers.Dense(y.shape[1], activation='sigmoid')  # Couche de sortie\n",
    "])\n",
    "\n",
    "# Compile le modèle\n",
    "model_use.compile(optimizer='adam', loss='binary_crossentropy', metrics=['accuracy'])\n",
    "\n",
    "# Utilise early stopping pour arrêter l'entraînement si les résultats se dégradent\n",
    "early_stopping = tf.keras.callbacks.EarlyStopping(monitor='val_loss', patience=3, restore_best_weights=True)\n",
    "\n",
    "# Entraîne le modèle (une seule époque pour tester rapidement)\n",
    "history_use = model_use.fit(X_train, y_train, validation_data=(X_test, y_test), epochs=1, batch_size=128, callbacks=[early_stopping])\n",
    "\n",
    "# Prédictions sur les données de test\n",
    "y_pred = (model_use.predict(X_test) > 0.5).astype(\"int32\")\n",
    "\n",
    "# Calcul des métriques supplémentaires\n",
    "accuracy = accuracy_score(y_test, y_pred)\n",
    "precision = precision_score(y_test, y_pred, average='macro')\n",
    "recall = recall_score(y_test, y_pred, average='macro')\n",
    "f1 = f1_score(y_test, y_pred, average='macro')\n",
    "\n",
    "# Suivi dans MLflow : enregistrement du modèle et des résultats\n",
    "with mlflow.start_run(run_name=\"USE Training Optimized with Metrics\"):\n",
    "    mlflow.keras.log_model(model_use, \"model_use\")\n",
    "\n",
    "    # Log d'entraînement\n",
    "    mlflow.log_metric(\"accuracy_train\", history_use.history['accuracy'][-1])\n",
    "    mlflow.log_metric(\"val_accuracy_train\", history_use.history['val_accuracy'][-1])\n",
    "    \n",
    "    # Log calculé sur le jeu de test\n",
    "    mlflow.log_metric(\"accuracy_test\", accuracy)\n",
    "    mlflow.log_metric(\"precision_test\", precision)\n",
    "    mlflow.log_metric(\"recall_test\", recall)\n",
    "    mlflow.log_metric(\"f1_score_test\", f1)\n",
    "\n",
    "logging.info(\"Modèle entraîné et suivi dans MLflow avec les métriques enrichies.\")\n",
    "\n",
    "print(f\"Exemple d'embeddings USE :\\n{X_use_np[:2]}\")  # Affiche deux premiers exemples d'embeddings\n",
    "print(f\"Shape des embeddings USE : {X_use_np.shape}\")\n"
   ]
  },
  {
   "cell_type": "code",
   "execution_count": 9,
   "metadata": {},
   "outputs": [
    {
     "name": "stderr",
     "output_type": "stream",
     "text": [
      "WARNING:absl:You are saving your model as an HDF5 file via `model.save()` or `keras.saving.save_model(model)`. This file format is considered legacy. We recommend using instead the native Keras format, e.g. `model.save('my_model.keras')` or `keras.saving.save_model(model, 'my_model.keras')`. \n"
     ]
    }
   ],
   "source": [
    "# Sauvegarder les artefacts et les modèles\n",
    "save_path = 'mlflow_artifacts/'\n",
    "os.makedirs(save_path, exist_ok=True)\n",
    "\n",
    "with open(os.path.join(save_path, 'df.pkl'), 'wb') as f:\n",
    "    pickle.dump(df, f)\n",
    "mlflow.log_artifact(os.path.join(save_path, 'df.pkl'))\n",
    "\n",
    "with open(os.path.join(save_path, 'X_reduced.pkl'), 'wb') as f:\n",
    "    pickle.dump(X_reduced, f)\n",
    "mlflow.log_artifact(os.path.join(save_path, 'X_reduced.pkl'))\n",
    "\n",
    "with open(os.path.join(save_path, 'X_word2vec.pkl'), 'wb') as f:\n",
    "    pickle.dump(X_word2vec, f)\n",
    "mlflow.log_artifact(os.path.join(save_path, 'X_word2vec.pkl'))\n",
    "\n",
    "with open(os.path.join(save_path, 'X_use_embeddings.pkl'), 'wb') as f:\n",
    "    pickle.dump(X_use_np, f)\n",
    "mlflow.log_artifact(os.path.join(save_path, 'X_use_embeddings.pkl'))\n",
    "\n",
    "model_use.save(os.path.join(save_path, 'use_model.h5'))\n",
    "mlflow.log_artifact(os.path.join(save_path, 'use_model.h5'))\n"
   ]
  },
  {
   "cell_type": "code",
   "execution_count": null,
   "metadata": {},
   "outputs": [],
   "source": []
  }
 ],
 "metadata": {
  "kernelspec": {
   "display_name": ".venv",
   "language": "python",
   "name": "python3"
  },
  "language_info": {
   "codemirror_mode": {
    "name": "ipython",
    "version": 3
   },
   "file_extension": ".py",
   "mimetype": "text/x-python",
   "name": "python",
   "nbconvert_exporter": "python",
   "pygments_lexer": "ipython3",
   "version": "3.12.4"
  }
 },
 "nbformat": 4,
 "nbformat_minor": 2
}
