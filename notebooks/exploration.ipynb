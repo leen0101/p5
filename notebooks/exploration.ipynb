{
 "cells": [
  {
   "cell_type": "code",
   "execution_count": null,
   "metadata": {},
   "outputs": [],
   "source": [
    "import pandas as pd\n",
    "import re\n",
    "import matplotlib.pyplot as plt\n",
    "import seaborn as sns\n",
    "from sklearn.feature_extraction.text import CountVectorizer\n",
    "from sklearn.decomposition import TruncatedSVD\n",
    "from sklearn.preprocessing import MultiLabelBinarizer\n",
    "from tensorflow.keras.callbacks import TensorBoard\n",
    "import datetime\n",
    "import nltk\n",
    "from nltk.tokenize import word_tokenize\n",
    "from nltk.corpus import stopwords\n",
    "from nltk.stem import WordNetLemmatizer"
   ]
  },
  {
   "cell_type": "code",
   "execution_count": null,
   "metadata": {},
   "outputs": [],
   "source": []
  },
  {
   "cell_type": "code",
   "execution_count": 21,
   "metadata": {},
   "outputs": [
    {
     "name": "stdout",
     "output_type": "stream",
     "text": [
      "The tensorboard extension is already loaded. To reload it, use:\n",
      "  %reload_ext tensorboard\n"
     ]
    }
   ],
   "source": [
    "# Configuration TensorBoard\n",
    "%load_ext tensorboard\n",
    "log_dir = \"logs/fit/\" + datetime.datetime.now().strftime(\"%Y%m%d-%H%M%S\")\n",
    "tensorboard_callback = TensorBoard(log_dir=log_dir, histogram_freq=1)\n",
    "\n",
    "\n",
    "\n",
    "\n",
    "\n"
   ]
  },
  {
   "cell_type": "code",
   "execution_count": null,
   "metadata": {},
   "outputs": [],
   "source": [
    "pd.set_option('display.max_rows', 50)\n",
    "pd.set_option('display.max_columns', None)\n",
    "pd.set_option('display.width', None)\n",
    "pd.set_option('display.max_colwidth', None)"
   ]
  },
  {
   "cell_type": "code",
   "execution_count": null,
   "metadata": {},
   "outputs": [],
   "source": [
    "df = pd.read_csv('db/questions_db.csv')\n",
    "print(df.head)\n",
    "# df = df.sample(frac=0.1, random_state=42) pour réduire l'échantillon si nécessaire"
   ]
  },
  {
   "cell_type": "code",
   "execution_count": null,
   "metadata": {},
   "outputs": [],
   "source": [
    "# Nettoie le texte\n",
    "def clean_text(text):\n",
    "    if isinstance(text, str):\n",
    "        # Enleve les symboles HTML\n",
    "        text = re.sub(r'<.*?>', '', text)\n",
    "        # Enleve les caractères spéciaux\n",
    "        text = re.sub(r'[^a-zA-Z0-9\\s]', '', text)\n",
    "        # Converti en minuscule\n",
    "        text = text.lower()\n",
    "    return text\n",
    "\n",
    "# transforme les tags sous forme de chaîne de caractères en liste\n",
    "def process_tags(tags):\n",
    "    if isinstance(tags, str):\n",
    "        \n",
    "        # Enlève les symboles '<>' entourant les tags et les divise en une liste\n",
    "        return tags.strip('<>').split('><')\n",
    "    else:\n",
    "        return []\n",
    "\n",
    "# Applique le traitement des tags à la colonne 'Tags' du DataFrame\n",
    "df['Tags'] = df['Tags'].apply(process_tags)\n",
    "\n",
    "\n",
    "# Applique clean_text pour nettoyer les colonnes 'Title' et 'Body'\n",
    "df['Title'] = df['Title'].apply(clean_text)\n",
    "df['Body'] = df['Body'].apply(clean_text)\n",
    "\n",
    "\n",
    "print(df.head())"
   ]
  },
  {
   "cell_type": "code",
   "execution_count": null,
   "metadata": {},
   "outputs": [],
   "source": [
    "# Vérifie les valeurs manquantes\n",
    "def check_missing_values(df):\n",
    "    missing_values = df.isnull().sum()\n",
    "    print(\"Nombre de valeurs manquantes par colonne:\")\n",
    "    print(missing_values)\n",
    "    if missing_values.any():\n",
    "        print(\"\\nColonnes avec valeurs manquantes:\")\n",
    "        print(missing_values[missing_values > 0])\n",
    "    else:\n",
    "        print(\"Aucune valeur manquante trouvée.\")\n",
    "\n",
    "\n",
    "check_missing_values(df)"
   ]
  },
  {
   "cell_type": "code",
   "execution_count": null,
   "metadata": {},
   "outputs": [],
   "source": [
    "# Crée une liste des tags présents dans le DataFrame\n",
    "all_tags = [tag for tags in df['Tags'] for tag in tags]\n",
    "\n",
    "# Vérifie si all_tags est bien généré\n",
    "if all_tags:\n",
    "    # Si oui, affiche le nombre total de tags extraits\n",
    "    print(f\"Nombre total de tags extraits: {len(all_tags)}\")\n",
    "else:\n",
    "    print(\"Erreur : Aucun tag n'a été extrait. Vérifiez la colonne 'Tags' dans votre DataFrame.\")\n",
    "\n",
    "# Compte la fréquence de chaque tag et sélectionne les 50 tags les plus fréquents\n",
    "tag_counts = pd.Series(all_tags).value_counts().head(50)\n",
    "\n",
    "# Les convertie en une liste\n",
    "top_tags = list(tag_counts.index)\n",
    "\n",
    "# Filtre les questions pour ne conserver que celles avec les top 50 tags\n",
    "df['Filtered_Tags'] = df['Tags'].apply(lambda tags: [tag for tag in tags if tag in top_tags])\n",
    "\n",
    "# Supprime les questions sans tags dans le top 50\n",
    "df = df[df['Filtered_Tags'].apply(len) > 0]\n",
    "\n",
    "print(top_tags)\n",
    "plt.figure(figsize=(12, 18))\n",
    "sns.barplot(x=tag_counts.values, y=tag_counts.index)\n",
    "plt.title('Top 20 des Tags les plus fréquents')\n",
    "plt.xlabel('Fréquence')\n",
    "plt.ylabel('Tags')\n",
    "plt.show()"
   ]
  },
  {
   "cell_type": "code",
   "execution_count": null,
   "metadata": {},
   "outputs": [],
   "source": [
    "# vérifie la présence de balises HTML et de caractères spéciaux dans un texte\n",
    "def check_html_special_chars(text):\n",
    "    if isinstance(text, str):\n",
    "        # Trouve toutes les balises HTML dans le texte\n",
    "        html_tags = re.findall(r'<.*?>', text)\n",
    "        # Trouve tous les caractères spéciaux (non alphanumériques et non espaces) \n",
    "        special_chars = re.findall(r'[^a-zA-Z0-9\\s]', text)\n",
    "        # Retourne le nombre total de balises HTML et de caractères spéciaux trouvés\n",
    "        return len(html_tags) + len(special_chars)\n",
    "    return 0\n",
    "\n",
    "\n",
    "# Applique check_html_special_chars à la colonne 'Title'\n",
    "df['Title_html_special'] = df['Title'].apply(check_html_special_chars)\n",
    "# Applique check_html_special_chars à la colonne 'Body'\n",
    "\n",
    "df['Body_html_special'] = df['Body'].apply(check_html_special_chars)\n",
    "\n",
    "print(\"Occurrences de caractères HTML ou spéciaux restants dans les titres\")\n",
    "print(df['Title_html_special'].value_counts())\n",
    "print(\"Occurrences de caractères HTML ou spéciaux restants dans les corps\")\n",
    "print(df['Body_html_special'].value_counts())\n",
    "\n",
    "# Vérification des tags\n",
    "print(\"Vérification des tags\")\n",
    "print(df['Tags'].head(10))\n",
    "\n",
    "# Affiche le tableau complet sans limite\n",
    "print(df)"
   ]
  },
  {
   "cell_type": "code",
   "execution_count": null,
   "metadata": {},
   "outputs": [],
   "source": [
    "def add_features(df):\n",
    "    # Longueur du titre\n",
    "    df['Title_length'] = df['Title'].apply(\n",
    "        lambda x: len(x.split()) if isinstance(x, str) else 0)\n",
    "    # Nombre de mots dans le corps\n",
    "    df['Body_word_count'] = df['Body'].apply(\n",
    "        lambda x: len(x.split()) if isinstance(x, str) else 0)\n",
    "    # Nombre de tags\n",
    "    df['Tag_count'] = df['Tags'].apply(\n",
    "        lambda x: len(x) if isinstance(x, list) else 0)\n",
    "    return df\n",
    "\n",
    "\n",
    "# Ajoute les features supplémentaires\n",
    "df = add_features(df)\n",
    "print(df.head(10))"
   ]
  },
  {
   "cell_type": "code",
   "execution_count": null,
   "metadata": {},
   "outputs": [],
   "source": [
    "df.info()"
   ]
  },
  {
   "cell_type": "code",
   "execution_count": null,
   "metadata": {},
   "outputs": [],
   "source": [
    "df = df.drop(columns=['FavoriteCount'])"
   ]
  },
  {
   "cell_type": "markdown",
   "metadata": {},
   "source": [
    "## Analyse multivariée\n"
   ]
  },
  {
   "cell_type": "code",
   "execution_count": null,
   "metadata": {},
   "outputs": [],
   "source": [
    "cols_to_analyze = ['Score', 'ViewCount', 'AnswerCount',\n",
    "                   'Title_length', 'Body_word_count', 'Tag_count']\n",
    "score_col = 'Score'\n",
    "view_col = 'ViewCount'\n",
    "favorite_col = 'FavoriteCount'"
   ]
  },
  {
   "cell_type": "code",
   "execution_count": null,
   "metadata": {},
   "outputs": [],
   "source": [
    "def analyse_univariee_multivariee(df, cols):\n",
    "    print(\"Analyse Univariée\")\n",
    "    for column in cols:\n",
    "        if column in df.columns:\n",
    "            plt.figure(figsize=(10, 6))\n",
    "            sns.histplot(df[column], kde=True)\n",
    "            plt.title(f'Distribution de {column}')\n",
    "            plt.xlabel(column)\n",
    "            plt.ylabel('Fréquence')\n",
    "            plt.show()\n",
    "\n",
    "    print(\"Analyse Multivariée\")\n",
    "    sns.pairplot(df[cols].select_dtypes(include=['int64', 'float64']))\n",
    "    plt.show()\n",
    "\n",
    "\n",
    "analyse_univariee_multivariee(df, cols_to_analyze)"
   ]
  },
  {
   "cell_type": "code",
   "execution_count": null,
   "metadata": {},
   "outputs": [],
   "source": [
    "print(df.describe())"
   ]
  },
  {
   "cell_type": "code",
   "execution_count": null,
   "metadata": {},
   "outputs": [],
   "source": [
    "def distribution_scores_vues_favoris(df, score_col, view_col, favorite_col):\n",
    "    if score_col in df.columns:\n",
    "        plt.figure(figsize=(10, 6))\n",
    "        sns.histplot(df[score_col], bins=30, kde=True)\n",
    "        plt.title(f'Distribution de {score_col}')\n",
    "        plt.xlabel(score_col)\n",
    "        plt.ylabel('Fréquence')\n",
    "        plt.show()\n",
    "\n",
    "    if view_col in df.columns:\n",
    "        plt.figure(figsize=(10, 6))\n",
    "        sns.histplot(df[view_col], bins=30, kde=True)\n",
    "        plt.title(f'Distribution de {view_col}')\n",
    "        plt.xlabel(view_col)\n",
    "        plt.ylabel('Fréquence')\n",
    "        plt.show()\n",
    "\n",
    "    if favorite_col in df.columns and df[favorite_col].notnull().sum() > 0:\n",
    "        plt.figure(figsize=(10, 6))\n",
    "        sns.histplot(df[favorite_col], bins=30, kde=True)\n",
    "        plt.title(f'Distribution de {favorite_col}')\n",
    "        plt.xlabel(favorite_col)\n",
    "        plt.ylabel('Fréquence')\n",
    "        plt.show()\n",
    "    else:\n",
    "        print(f\"La colonne {favorite_col} est vide ou n'existe pas.\")"
   ]
  },
  {
   "cell_type": "code",
   "execution_count": null,
   "metadata": {},
   "outputs": [],
   "source": [
    "def correlation_variables(df, cols):\n",
    "    corr_matrix = df[cols].corr()\n",
    "    plt.figure(figsize=(12, 8))\n",
    "    sns.heatmap(corr_matrix, annot=True, cmap='coolwarm')\n",
    "    plt.title('Matrice de Corrélation')\n",
    "    plt.show()\n",
    "\n",
    "\n",
    "correlation_variables(df, cols_to_analyze)"
   ]
  },
  {
   "cell_type": "markdown",
   "metadata": {},
   "source": [
    "### Tokenization + stopwords + lemmatization"
   ]
  },
  {
   "cell_type": "code",
   "execution_count": null,
   "metadata": {},
   "outputs": [],
   "source": [
    "\n",
    "\n",
    "\n",
    "# Nettoie le texte des mots vides\n",
    "def treatments_text(text):\n",
    "    # Tokenization\n",
    "    tokens = word_tokenize(text)\n",
    "\n",
    "    # Suppression des stop words\n",
    "    stop_words = set(stopwords.words('english'))\n",
    "    tokens = [word for word in tokens if word.lower() not in stop_words]\n",
    "\n",
    "    # Lemmatization\n",
    "    lemmatizer = WordNetLemmatizer()\n",
    "    tokens = [lemmatizer.lemmatize(word) for word in tokens]\n",
    "\n",
    "    return ' '.join(tokens)\n",
    "\n",
    "# Colonnes Title et Body\n",
    "\n",
    "\n",
    "def clean_dataframe(df):\n",
    "    df['Cleaned_Title'] = df['Title'].apply(treatments_text)\n",
    "    df['Cleaned_Body'] = df['Body'].apply(treatments_text)\n",
    "    return df\n",
    "\n",
    "\n",
    "df = clean_dataframe(df)\n",
    "\n",
    "# Verification\n",
    "print(df[['Title', 'Cleaned_Title', 'Body', 'Cleaned_Body']].head())"
   ]
  },
  {
   "cell_type": "code",
   "execution_count": null,
   "metadata": {},
   "outputs": [],
   "source": [
    "\n",
    "def transform_text_to_bow(df):\n",
    "    # Bag of Words : compte les mots et les represente en format numérique \n",
    "    vectorizer = CountVectorizer(max_df=0.95, min_df=2)\n",
    "    X = vectorizer.fit_transform(df['Cleaned_Body'])\n",
    "\n",
    "    # Réduction de dimension avec TruncatedSVD : réduit la dimensionnalité des vecteurs BoW\n",
    "    svd = TruncatedSVD(n_components=100)\n",
    "    X_reduced = svd.fit_transform(X)\n",
    "\n",
    "    # Transformation des tags : convertit les tags en une forme utilisable pour l'apprentissage supervisé\n",
    "    mlb = MultiLabelBinarizer(classes=top_tags)\n",
    "    y = mlb.fit_transform(df['Filtered_Tags'])\n",
    "\n",
    "\n",
    "    return X_reduced, y, vectorizer, svd, mlb"
   ]
  },
  {
   "cell_type": "code",
   "execution_count": null,
   "metadata": {},
   "outputs": [],
   "source": []
  },
  {
   "cell_type": "code",
   "execution_count": null,
   "metadata": {},
   "outputs": [],
   "source": [
    "X_reduced, y, vectorizer, svd, mlb = transform_text_to_bow(df)\n",
    "\n",
    "# Vérification que X_reduced et y ne sont pas None\n",
    "print(\"Shape of X_reduced:\", X_reduced.shape if X_reduced is not None else \"X_reduced is None\")\n",
    "print(\"Shape of y:\", y.shape if y is not None else \"y is None\")\n"
   ]
  },
  {
   "cell_type": "code",
   "execution_count": null,
   "metadata": {},
   "outputs": [],
   "source": [
    "# Sauvegare avec pickle de quelques valeurs a travailler dans un autre notebook\n",
    "\n",
    "import pickle\n",
    "\n",
    "# Sauvegarde des objets\n",
    "with open('X_reduced.pkl', 'wb') as f:\n",
    "    pickle.dump(X_reduced, f)\n",
    "\n",
    "with open('y.pkl', 'wb') as f:\n",
    "    pickle.dump(y, f)\n",
    "\n",
    "with open('vectorizer.pkl', 'wb') as f:\n",
    "    pickle.dump(vectorizer, f)\n",
    "\n",
    "with open('svd.pkl', 'wb') as f:\n",
    "    pickle.dump(svd, f)\n",
    "\n",
    "with open('top_tags.pkl', 'wb') as f:\n",
    "    pickle.dump(top_tags, f)\n",
    "\n",
    "# Affichage de top_tags après la sauvegarde\n",
    "print(top_tags)\n"
   ]
  }
 ],
 "metadata": {
  "kernelspec": {
   "display_name": "Python 3",
   "language": "python",
   "name": "python3"
  },
  "language_info": {
   "codemirror_mode": {
    "name": "ipython",
    "version": 3
   },
   "file_extension": ".py",
   "mimetype": "text/x-python",
   "name": "python",
   "nbconvert_exporter": "python",
   "pygments_lexer": "ipython3",
   "version": "3.12.4"
  }
 },
 "nbformat": 4,
 "nbformat_minor": 2
}
