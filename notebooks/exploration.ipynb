{
 "cells": [
  {
   "cell_type": "code",
   "execution_count": 2,
   "metadata": {},
   "outputs": [
    {
     "ename": "OSError",
     "evalue": "[WinError 126] Le module spécifié est introuvable. Error loading \"c:\\Users\\leenc\\Documents\\openclassrooms\\p5\\.venv\\Lib\\site-packages\\torch\\lib\\fbgemm.dll\" or one of its dependencies.",
     "output_type": "error",
     "traceback": [
      "\u001b[1;31m---------------------------------------------------------------------------\u001b[0m",
      "\u001b[1;31mOSError\u001b[0m                                   Traceback (most recent call last)",
      "Cell \u001b[1;32mIn[2], line 16\u001b[0m\n\u001b[0;32m     14\u001b[0m \u001b[38;5;28;01mfrom\u001b[39;00m \u001b[38;5;21;01mgensim\u001b[39;00m\u001b[38;5;21;01m.\u001b[39;00m\u001b[38;5;21;01mmodels\u001b[39;00m \u001b[38;5;28;01mimport\u001b[39;00m Word2Vec\n\u001b[0;32m     15\u001b[0m \u001b[38;5;28;01mimport\u001b[39;00m \u001b[38;5;21;01mnumpy\u001b[39;00m \u001b[38;5;28;01mas\u001b[39;00m \u001b[38;5;21;01mnp\u001b[39;00m\n\u001b[1;32m---> 16\u001b[0m \u001b[38;5;28;01mfrom\u001b[39;00m \u001b[38;5;21;01mtransformers\u001b[39;00m \u001b[38;5;28;01mimport\u001b[39;00m BertTokenizer, BertModel\n\u001b[0;32m     17\u001b[0m \u001b[38;5;28;01mimport\u001b[39;00m \u001b[38;5;21;01mtorch\u001b[39;00m\n",
      "File \u001b[1;32mc:\\Users\\leenc\\Documents\\openclassrooms\\p5\\.venv\\Lib\\site-packages\\transformers\\__init__.py:26\u001b[0m\n\u001b[0;32m     23\u001b[0m \u001b[38;5;28;01mfrom\u001b[39;00m \u001b[38;5;21;01mtyping\u001b[39;00m \u001b[38;5;28;01mimport\u001b[39;00m TYPE_CHECKING\n\u001b[0;32m     25\u001b[0m \u001b[38;5;66;03m# Check the dependencies satisfy the minimal versions required.\u001b[39;00m\n\u001b[1;32m---> 26\u001b[0m \u001b[38;5;28;01mfrom\u001b[39;00m \u001b[38;5;21;01m.\u001b[39;00m \u001b[38;5;28;01mimport\u001b[39;00m dependency_versions_check\n\u001b[0;32m     27\u001b[0m \u001b[38;5;28;01mfrom\u001b[39;00m \u001b[38;5;21;01m.\u001b[39;00m\u001b[38;5;21;01mutils\u001b[39;00m \u001b[38;5;28;01mimport\u001b[39;00m (\n\u001b[0;32m     28\u001b[0m     OptionalDependencyNotAvailable,\n\u001b[0;32m     29\u001b[0m     _LazyModule,\n\u001b[1;32m   (...)\u001b[0m\n\u001b[0;32m     48\u001b[0m     logging,\n\u001b[0;32m     49\u001b[0m )\n\u001b[0;32m     52\u001b[0m logger \u001b[38;5;241m=\u001b[39m logging\u001b[38;5;241m.\u001b[39mget_logger(\u001b[38;5;18m__name__\u001b[39m)  \u001b[38;5;66;03m# pylint: disable=invalid-name\u001b[39;00m\n",
      "File \u001b[1;32mc:\\Users\\leenc\\Documents\\openclassrooms\\p5\\.venv\\Lib\\site-packages\\transformers\\dependency_versions_check.py:16\u001b[0m\n\u001b[0;32m      1\u001b[0m \u001b[38;5;66;03m# Copyright 2020 The HuggingFace Team. All rights reserved.\u001b[39;00m\n\u001b[0;32m      2\u001b[0m \u001b[38;5;66;03m#\u001b[39;00m\n\u001b[0;32m      3\u001b[0m \u001b[38;5;66;03m# Licensed under the Apache License, Version 2.0 (the \"License\");\u001b[39;00m\n\u001b[1;32m   (...)\u001b[0m\n\u001b[0;32m     12\u001b[0m \u001b[38;5;66;03m# See the License for the specific language governing permissions and\u001b[39;00m\n\u001b[0;32m     13\u001b[0m \u001b[38;5;66;03m# limitations under the License.\u001b[39;00m\n\u001b[0;32m     15\u001b[0m \u001b[38;5;28;01mfrom\u001b[39;00m \u001b[38;5;21;01m.\u001b[39;00m\u001b[38;5;21;01mdependency_versions_table\u001b[39;00m \u001b[38;5;28;01mimport\u001b[39;00m deps\n\u001b[1;32m---> 16\u001b[0m \u001b[38;5;28;01mfrom\u001b[39;00m \u001b[38;5;21;01m.\u001b[39;00m\u001b[38;5;21;01mutils\u001b[39;00m\u001b[38;5;21;01m.\u001b[39;00m\u001b[38;5;21;01mversions\u001b[39;00m \u001b[38;5;28;01mimport\u001b[39;00m require_version, require_version_core\n\u001b[0;32m     19\u001b[0m \u001b[38;5;66;03m# define which module versions we always want to check at run time\u001b[39;00m\n\u001b[0;32m     20\u001b[0m \u001b[38;5;66;03m# (usually the ones defined in `install_requires` in setup.py)\u001b[39;00m\n\u001b[0;32m     21\u001b[0m \u001b[38;5;66;03m#\u001b[39;00m\n\u001b[0;32m     22\u001b[0m \u001b[38;5;66;03m# order specific notes:\u001b[39;00m\n\u001b[0;32m     23\u001b[0m \u001b[38;5;66;03m# - tqdm must be checked before tokenizers\u001b[39;00m\n\u001b[0;32m     25\u001b[0m pkgs_to_check_at_runtime \u001b[38;5;241m=\u001b[39m [\n\u001b[0;32m     26\u001b[0m     \u001b[38;5;124m\"\u001b[39m\u001b[38;5;124mpython\u001b[39m\u001b[38;5;124m\"\u001b[39m,\n\u001b[0;32m     27\u001b[0m     \u001b[38;5;124m\"\u001b[39m\u001b[38;5;124mtqdm\u001b[39m\u001b[38;5;124m\"\u001b[39m,\n\u001b[1;32m   (...)\u001b[0m\n\u001b[0;32m     37\u001b[0m     \u001b[38;5;124m\"\u001b[39m\u001b[38;5;124mpyyaml\u001b[39m\u001b[38;5;124m\"\u001b[39m,\n\u001b[0;32m     38\u001b[0m ]\n",
      "File \u001b[1;32mc:\\Users\\leenc\\Documents\\openclassrooms\\p5\\.venv\\Lib\\site-packages\\transformers\\utils\\__init__.py:34\u001b[0m\n\u001b[0;32m     25\u001b[0m \u001b[38;5;28;01mfrom\u001b[39;00m \u001b[38;5;21;01m.\u001b[39;00m\u001b[38;5;21;01mconstants\u001b[39;00m \u001b[38;5;28;01mimport\u001b[39;00m IMAGENET_DEFAULT_MEAN, IMAGENET_DEFAULT_STD, IMAGENET_STANDARD_MEAN, IMAGENET_STANDARD_STD\n\u001b[0;32m     26\u001b[0m \u001b[38;5;28;01mfrom\u001b[39;00m \u001b[38;5;21;01m.\u001b[39;00m\u001b[38;5;21;01mdoc\u001b[39;00m \u001b[38;5;28;01mimport\u001b[39;00m (\n\u001b[0;32m     27\u001b[0m     add_code_sample_docstrings,\n\u001b[0;32m     28\u001b[0m     add_end_docstrings,\n\u001b[1;32m   (...)\u001b[0m\n\u001b[0;32m     32\u001b[0m     replace_return_docstrings,\n\u001b[0;32m     33\u001b[0m )\n\u001b[1;32m---> 34\u001b[0m \u001b[38;5;28;01mfrom\u001b[39;00m \u001b[38;5;21;01m.\u001b[39;00m\u001b[38;5;21;01mgeneric\u001b[39;00m \u001b[38;5;28;01mimport\u001b[39;00m (\n\u001b[0;32m     35\u001b[0m     ContextManagers,\n\u001b[0;32m     36\u001b[0m     ExplicitEnum,\n\u001b[0;32m     37\u001b[0m     ModelOutput,\n\u001b[0;32m     38\u001b[0m     PaddingStrategy,\n\u001b[0;32m     39\u001b[0m     TensorType,\n\u001b[0;32m     40\u001b[0m     add_model_info_to_auto_map,\n\u001b[0;32m     41\u001b[0m     add_model_info_to_custom_pipelines,\n\u001b[0;32m     42\u001b[0m     cached_property,\n\u001b[0;32m     43\u001b[0m     can_return_loss,\n\u001b[0;32m     44\u001b[0m     expand_dims,\n\u001b[0;32m     45\u001b[0m     filter_out_non_signature_kwargs,\n\u001b[0;32m     46\u001b[0m     find_labels,\n\u001b[0;32m     47\u001b[0m     flatten_dict,\n\u001b[0;32m     48\u001b[0m     infer_framework,\n\u001b[0;32m     49\u001b[0m     is_jax_tensor,\n\u001b[0;32m     50\u001b[0m     is_numpy_array,\n\u001b[0;32m     51\u001b[0m     is_tensor,\n\u001b[0;32m     52\u001b[0m     is_tf_symbolic_tensor,\n\u001b[0;32m     53\u001b[0m     is_tf_tensor,\n\u001b[0;32m     54\u001b[0m     is_torch_device,\n\u001b[0;32m     55\u001b[0m     is_torch_dtype,\n\u001b[0;32m     56\u001b[0m     is_torch_tensor,\n\u001b[0;32m     57\u001b[0m     reshape,\n\u001b[0;32m     58\u001b[0m     squeeze,\n\u001b[0;32m     59\u001b[0m     strtobool,\n\u001b[0;32m     60\u001b[0m     tensor_size,\n\u001b[0;32m     61\u001b[0m     to_numpy,\n\u001b[0;32m     62\u001b[0m     to_py_obj,\n\u001b[0;32m     63\u001b[0m     torch_float,\n\u001b[0;32m     64\u001b[0m     torch_int,\n\u001b[0;32m     65\u001b[0m     transpose,\n\u001b[0;32m     66\u001b[0m     working_or_temp_dir,\n\u001b[0;32m     67\u001b[0m )\n\u001b[0;32m     68\u001b[0m \u001b[38;5;28;01mfrom\u001b[39;00m \u001b[38;5;21;01m.\u001b[39;00m\u001b[38;5;21;01mhub\u001b[39;00m \u001b[38;5;28;01mimport\u001b[39;00m (\n\u001b[0;32m     69\u001b[0m     CLOUDFRONT_DISTRIB_PREFIX,\n\u001b[0;32m     70\u001b[0m     HF_MODULES_CACHE,\n\u001b[1;32m   (...)\u001b[0m\n\u001b[0;32m     96\u001b[0m     try_to_load_from_cache,\n\u001b[0;32m     97\u001b[0m )\n\u001b[0;32m     98\u001b[0m \u001b[38;5;28;01mfrom\u001b[39;00m \u001b[38;5;21;01m.\u001b[39;00m\u001b[38;5;21;01mimport_utils\u001b[39;00m \u001b[38;5;28;01mimport\u001b[39;00m (\n\u001b[0;32m     99\u001b[0m     ACCELERATE_MIN_VERSION,\n\u001b[0;32m    100\u001b[0m     ENV_VARS_TRUE_AND_AUTO_VALUES,\n\u001b[1;32m   (...)\u001b[0m\n\u001b[0;32m    219\u001b[0m     torch_only_method,\n\u001b[0;32m    220\u001b[0m )\n",
      "File \u001b[1;32mc:\\Users\\leenc\\Documents\\openclassrooms\\p5\\.venv\\Lib\\site-packages\\transformers\\utils\\generic.py:462\u001b[0m\n\u001b[0;32m    458\u001b[0m         \u001b[38;5;28;01mreturn\u001b[39;00m \u001b[38;5;28mtuple\u001b[39m(\u001b[38;5;28mself\u001b[39m[k] \u001b[38;5;28;01mfor\u001b[39;00m k \u001b[38;5;129;01min\u001b[39;00m \u001b[38;5;28mself\u001b[39m\u001b[38;5;241m.\u001b[39mkeys())\n\u001b[0;32m    461\u001b[0m \u001b[38;5;28;01mif\u001b[39;00m is_torch_available():\n\u001b[1;32m--> 462\u001b[0m     \u001b[38;5;28;01mimport\u001b[39;00m \u001b[38;5;21;01mtorch\u001b[39;00m\u001b[38;5;21;01m.\u001b[39;00m\u001b[38;5;21;01mutils\u001b[39;00m\u001b[38;5;21;01m.\u001b[39;00m\u001b[38;5;21;01m_pytree\u001b[39;00m \u001b[38;5;28;01mas\u001b[39;00m \u001b[38;5;21;01m_torch_pytree\u001b[39;00m\n\u001b[0;32m    464\u001b[0m     \u001b[38;5;28;01mdef\u001b[39;00m \u001b[38;5;21m_model_output_flatten\u001b[39m(output: ModelOutput) \u001b[38;5;241m-\u001b[39m\u001b[38;5;241m>\u001b[39m Tuple[List[Any], \u001b[38;5;124m\"\u001b[39m\u001b[38;5;124m_torch_pytree.Context\u001b[39m\u001b[38;5;124m\"\u001b[39m]:\n\u001b[0;32m    465\u001b[0m         \u001b[38;5;28;01mreturn\u001b[39;00m \u001b[38;5;28mlist\u001b[39m(output\u001b[38;5;241m.\u001b[39mvalues()), \u001b[38;5;28mlist\u001b[39m(output\u001b[38;5;241m.\u001b[39mkeys())\n",
      "File \u001b[1;32mc:\\Users\\leenc\\Documents\\openclassrooms\\p5\\.venv\\Lib\\site-packages\\torch\\__init__.py:148\u001b[0m\n\u001b[0;32m    146\u001b[0m                 err \u001b[38;5;241m=\u001b[39m ctypes\u001b[38;5;241m.\u001b[39mWinError(ctypes\u001b[38;5;241m.\u001b[39mget_last_error())\n\u001b[0;32m    147\u001b[0m                 err\u001b[38;5;241m.\u001b[39mstrerror \u001b[38;5;241m+\u001b[39m\u001b[38;5;241m=\u001b[39m \u001b[38;5;124mf\u001b[39m\u001b[38;5;124m'\u001b[39m\u001b[38;5;124m Error loading \u001b[39m\u001b[38;5;124m\"\u001b[39m\u001b[38;5;132;01m{\u001b[39;00mdll\u001b[38;5;132;01m}\u001b[39;00m\u001b[38;5;124m\"\u001b[39m\u001b[38;5;124m or one of its dependencies.\u001b[39m\u001b[38;5;124m'\u001b[39m\n\u001b[1;32m--> 148\u001b[0m                 \u001b[38;5;28;01mraise\u001b[39;00m err\n\u001b[0;32m    150\u001b[0m     kernel32\u001b[38;5;241m.\u001b[39mSetErrorMode(prev_error_mode)\n\u001b[0;32m    153\u001b[0m \u001b[38;5;28;01mdef\u001b[39;00m \u001b[38;5;21m_preload_cuda_deps\u001b[39m(lib_folder, lib_name):\n",
      "\u001b[1;31mOSError\u001b[0m: [WinError 126] Le module spécifié est introuvable. Error loading \"c:\\Users\\leenc\\Documents\\openclassrooms\\p5\\.venv\\Lib\\site-packages\\torch\\lib\\fbgemm.dll\" or one of its dependencies."
     ]
    }
   ],
   "source": [
    "import pandas as pd\n",
    "import re\n",
    "import matplotlib.pyplot as plt\n",
    "import seaborn as sns\n",
    "from sklearn.feature_extraction.text import CountVectorizer\n",
    "from sklearn.decomposition import TruncatedSVD\n",
    "from sklearn.preprocessing import MultiLabelBinarizer\n",
    "from tensorflow.keras.callbacks import TensorBoard\n",
    "import datetime\n",
    "import nltk\n",
    "from nltk.tokenize import word_tokenize\n",
    "from nltk.corpus import stopwords\n",
    "from nltk.stem import WordNetLemmatizer\n",
    "from gensim.models import Word2Vec\n",
    "import numpy as np\n",
    "import tensorflow_hub as hub\n",
    "\n"
   ]
  },
  {
   "cell_type": "code",
   "execution_count": null,
   "metadata": {},
   "outputs": [],
   "source": []
  },
  {
   "cell_type": "code",
   "execution_count": null,
   "metadata": {},
   "outputs": [],
   "source": [
    "# Configuration TensorBoard\n",
    "%load_ext tensorboard\n",
    "log_dir = \"logs/fit/\" + datetime.datetime.now().strftime(\"%Y%m%d-%H%M%S\")\n",
    "tensorboard_callback = TensorBoard(log_dir=log_dir, histogram_freq=1)\n",
    "\n",
    "\n",
    "\n",
    "\n",
    "\n"
   ]
  },
  {
   "cell_type": "code",
   "execution_count": null,
   "metadata": {},
   "outputs": [],
   "source": [
    "pd.set_option('display.max_rows', 50)\n",
    "pd.set_option('display.max_columns', None)\n",
    "pd.set_option('display.width', None)\n",
    "pd.set_option('display.max_colwidth', None)"
   ]
  },
  {
   "cell_type": "code",
   "execution_count": null,
   "metadata": {},
   "outputs": [],
   "source": [
    "df = pd.read_csv('db/questions_db.csv')\n",
    "print(df.head)\n",
    "# pour réduire l'échantillon si nécessaire\n",
    "df = df.sample(frac=0.1, random_state=42) \n"
   ]
  },
  {
   "cell_type": "code",
   "execution_count": null,
   "metadata": {},
   "outputs": [],
   "source": [
    "# Nettoie le texte\n",
    "def clean_text(text):\n",
    "    if isinstance(text, str):\n",
    "        # Enlève les caractères spéciaux (y compris les balises HTML) pour ne garder que les lettres, les chiffres, et les espaces\n",
    "        text = re.sub(r'[^a-zA-Z0-9\\s]', '', text)\n",
    "        # Converti en minuscule\n",
    "        text = text.lower()\n",
    "    return text\n",
    "\n",
    "\n",
    "# transforme les tags sous forme de chaîne de caractères en liste\n",
    "def process_tags(tags):\n",
    "    if isinstance(tags, str):\n",
    "        \n",
    "        # Enlève les symboles '<>' entourant les tags et les divise en une liste\n",
    "        return tags.strip('<>').split('><')\n",
    "    else:\n",
    "        return []\n",
    "\n",
    "# Applique le traitement des tags à la colonne 'Tags' du DataFrame\n",
    "df['Tags'] = df['Tags'].apply(process_tags)\n",
    "\n",
    "\n",
    "# Applique clean_text pour nettoyer les colonnes 'Title' et 'Body'\n",
    "df['Title'] = df['Title'].apply(clean_text)\n",
    "df['Body'] = df['Body'].apply(clean_text)\n",
    "\n",
    "\n",
    "print(df.head())"
   ]
  },
  {
   "cell_type": "code",
   "execution_count": null,
   "metadata": {},
   "outputs": [],
   "source": [
    "# Vérifie les valeurs manquantes\n",
    "def check_missing_values(df):\n",
    "    missing_values = df.isnull().sum()\n",
    "    print(\"Nombre de valeurs manquantes par colonne:\")\n",
    "    print(missing_values)\n",
    "    if missing_values.any():\n",
    "        print(\"\\nColonnes avec valeurs manquantes:\")\n",
    "        print(missing_values[missing_values > 0])\n",
    "    else:\n",
    "        print(\"Aucune valeur manquante trouvée.\")\n",
    "\n",
    "\n",
    "check_missing_values(df)"
   ]
  },
  {
   "cell_type": "code",
   "execution_count": null,
   "metadata": {},
   "outputs": [],
   "source": [
    "# Crée une liste des tags présents dans le DataFrame\n",
    "all_tags = [tag for tags in df['Tags'] for tag in tags]\n",
    "\n",
    "# Vérifie si all_tags est bien généré\n",
    "if all_tags:\n",
    "    # Si oui, affiche le nombre total de tags extraits\n",
    "    print(f\"Nombre total de tags extraits: {len(all_tags)}\")\n",
    "else:\n",
    "    print(\"Erreur : Aucun tag n'a été extrait\")\n",
    "\n",
    "# Compte la fréquence de chaque tag et sélectionne les 50 tags les plus fréquents\n",
    "tag_counts = pd.Series(all_tags).value_counts().head(50)\n",
    "\n",
    "# Les convertie en une liste\n",
    "top_tags = list(tag_counts.index)\n",
    "\n",
    "# Filtre les questions pour ne conserver que celles avec les top 50 tags\n",
    "df['Filtered_Tags'] = df['Tags'].apply(lambda tags: [tag for tag in tags if tag in top_tags])\n",
    "\n",
    "# Supprime les questions sans tags dans le top 50\n",
    "df = df[df['Filtered_Tags'].apply(len) > 0]\n",
    "\n",
    "print(top_tags)\n",
    "plt.figure(figsize=(12, 18))\n",
    "sns.barplot(x=tag_counts.values, y=tag_counts.index)\n",
    "plt.title('Top 50 des Tags les plus fréquents')\n",
    "plt.xlabel('Fréquence')\n",
    "plt.ylabel('Tags')\n",
    "plt.show()"
   ]
  },
  {
   "cell_type": "code",
   "execution_count": null,
   "metadata": {},
   "outputs": [],
   "source": [
    "# vérifie la présence de balises HTML et de caractères spéciaux dans un texte\n",
    "def check_html_special_chars(text):\n",
    "    if isinstance(text, str):\n",
    "        # Trouve toutes les balises HTML dans le texte\n",
    "        html_tags = re.findall(r'<.*?>', text)\n",
    "        # Trouve tous les caractères spéciaux (non alphanumériques et non espaces) \n",
    "        special_chars = re.findall(r'[^a-zA-Z0-9\\s]', text)\n",
    "        # Retourne le nombre total de balises HTML et de caractères spéciaux trouvés\n",
    "        return len(html_tags) + len(special_chars)\n",
    "    return 0\n",
    "\n",
    "\n",
    "# Applique check_html_special_chars à la colonne 'Title'\n",
    "df['Title_html_special'] = df['Title'].apply(check_html_special_chars)\n",
    "# Applique check_html_special_chars à la colonne 'Body'\n",
    "\n",
    "df['Body_html_special'] = df['Body'].apply(check_html_special_chars)\n",
    "\n",
    "print(\"Occurrences de caractères HTML ou spéciaux restants dans les titres\")\n",
    "print(df['Title_html_special'].value_counts())\n",
    "print(\"Occurrences de caractères HTML ou spéciaux restants dans les corps\")\n",
    "print(df['Body_html_special'].value_counts())\n",
    "\n",
    "# Vérification des tags\n",
    "print(\"Vérification des tags\")\n",
    "print(df['Tags'].head(10))\n",
    "\n",
    "# Affiche le tableau complet sans limite\n",
    "print(df)"
   ]
  },
  {
   "cell_type": "code",
   "execution_count": null,
   "metadata": {},
   "outputs": [],
   "source": [
    "def add_features(df):\n",
    "    # Longueur du titre\n",
    "    df['Title_length'] = df['Title'].apply(\n",
    "        lambda x: len(x.split()) if isinstance(x, str) else 0)\n",
    "    # Nombre de mots dans le corps\n",
    "    df['Body_word_count'] = df['Body'].apply(\n",
    "        lambda x: len(x.split()) if isinstance(x, str) else 0)\n",
    "    # Nombre de tags\n",
    "    df['Tag_count'] = df['Tags'].apply(\n",
    "        lambda x: len(x) if isinstance(x, list) else 0)\n",
    "    return df\n",
    "\n",
    "\n",
    "# Ajoute les features supplémentaires\n",
    "df = add_features(df)\n",
    "print(df.head(10))"
   ]
  },
  {
   "cell_type": "code",
   "execution_count": null,
   "metadata": {},
   "outputs": [],
   "source": [
    "df.info()"
   ]
  },
  {
   "cell_type": "code",
   "execution_count": null,
   "metadata": {},
   "outputs": [],
   "source": [
    "df = df.drop(columns=['FavoriteCount'])"
   ]
  },
  {
   "cell_type": "markdown",
   "metadata": {},
   "source": [
    "## Analyse multivariée\n"
   ]
  },
  {
   "cell_type": "code",
   "execution_count": null,
   "metadata": {},
   "outputs": [],
   "source": [
    "cols_to_analyze = ['Score', 'ViewCount', 'AnswerCount',\n",
    "                   'Title_length', 'Body_word_count', 'Tag_count']\n",
    "score_col = 'Score'\n",
    "view_col = 'ViewCount'\n",
    "favorite_col = 'FavoriteCount'"
   ]
  },
  {
   "cell_type": "code",
   "execution_count": null,
   "metadata": {},
   "outputs": [],
   "source": [
    "def analyse_univariee_multivariee(df, cols):\n",
    "    print(\"Analyse Univariée\")\n",
    "    for column in cols:\n",
    "        if column in df.columns:\n",
    "            plt.figure(figsize=(10, 6))\n",
    "            sns.histplot(df[column], kde=True)\n",
    "            plt.title(f'Distribution de {column}')\n",
    "            plt.xlabel(column)\n",
    "            plt.ylabel('Fréquence')\n",
    "            plt.show()\n",
    "\n",
    "    print(\"Analyse Multivariée\")\n",
    "    sns.pairplot(df[cols].select_dtypes(include=['int64', 'float64']))\n",
    "    plt.show()\n",
    "\n",
    "\n",
    "analyse_univariee_multivariee(df, cols_to_analyze)"
   ]
  },
  {
   "cell_type": "code",
   "execution_count": null,
   "metadata": {},
   "outputs": [],
   "source": [
    "print(df.describe())"
   ]
  },
  {
   "cell_type": "code",
   "execution_count": null,
   "metadata": {},
   "outputs": [],
   "source": [
    "def distribution_scores_vues_favoris(df, score_col, view_col, favorite_col):\n",
    "    if score_col in df.columns:\n",
    "        plt.figure(figsize=(10, 6))\n",
    "        sns.histplot(df[score_col], bins=30, kde=True)\n",
    "        plt.title(f'Distribution de {score_col}')\n",
    "        plt.xlabel(score_col)\n",
    "        plt.ylabel('Fréquence')\n",
    "        plt.show()\n",
    "\n",
    "    if view_col in df.columns:\n",
    "        plt.figure(figsize=(10, 6))\n",
    "        sns.histplot(df[view_col], bins=30, kde=True)\n",
    "        plt.title(f'Distribution de {view_col}')\n",
    "        plt.xlabel(view_col)\n",
    "        plt.ylabel('Fréquence')\n",
    "        plt.show()\n",
    "\n",
    "    if favorite_col in df.columns and df[favorite_col].notnull().sum() > 0:\n",
    "        plt.figure(figsize=(10, 6))\n",
    "        sns.histplot(df[favorite_col], bins=30, kde=True)\n",
    "        plt.title(f'Distribution de {favorite_col}')\n",
    "        plt.xlabel(favorite_col)\n",
    "        plt.ylabel('Fréquence')\n",
    "        plt.show()\n",
    "    else:\n",
    "        print(f\"La colonne {favorite_col} est vide ou n'existe pas.\")"
   ]
  },
  {
   "cell_type": "code",
   "execution_count": null,
   "metadata": {},
   "outputs": [],
   "source": [
    "def correlation_variables(df, cols):\n",
    "    corr_matrix = df[cols].corr()\n",
    "    plt.figure(figsize=(12, 8))\n",
    "    sns.heatmap(corr_matrix, annot=True, cmap='coolwarm')\n",
    "    plt.title('Matrice de Corrélation')\n",
    "    plt.show()\n",
    "\n",
    "\n",
    "correlation_variables(df, cols_to_analyze)"
   ]
  },
  {
   "cell_type": "markdown",
   "metadata": {},
   "source": [
    "### Tokenization + stopwords + lemmatization"
   ]
  },
  {
   "cell_type": "code",
   "execution_count": null,
   "metadata": {},
   "outputs": [],
   "source": [
    "\n",
    "\n",
    "\n",
    "# Nettoie le texte des mots vides\n",
    "def treatments_text(text):\n",
    "    # Tokenization\n",
    "    tokens = word_tokenize(text)\n",
    "\n",
    "    # Suppression des stop words\n",
    "    stop_words = set(stopwords.words('english'))\n",
    "    tokens = [word for word in tokens if word.lower() not in stop_words]\n",
    "\n",
    "    # Lemmatization\n",
    "    lemmatizer = WordNetLemmatizer()\n",
    "    tokens = [lemmatizer.lemmatize(word) for word in tokens]\n",
    "\n",
    "    return ' '.join(tokens)\n",
    "\n",
    "# Colonnes Title et Body\n",
    "\n",
    "\n",
    "def clean_dataframe(df):\n",
    "    df['Cleaned_Title'] = df['Title'].apply(treatments_text)\n",
    "    df['Cleaned_Body'] = df['Body'].apply(treatments_text)\n",
    "    return df\n",
    "\n",
    "\n",
    "df = clean_dataframe(df)\n",
    "\n",
    "# Verification\n",
    "print(df[['Title', 'Cleaned_Title', 'Body', 'Cleaned_Body']].head())"
   ]
  },
  {
   "cell_type": "markdown",
   "metadata": {},
   "source": [
    "### Différentes méthodes pour traiter les mots"
   ]
  },
  {
   "cell_type": "code",
   "execution_count": null,
   "metadata": {},
   "outputs": [],
   "source": [
    "\n",
    "def transform_text_to_bow(df):\n",
    "    # Bag of Words : compte les mots et les represente en format numérique \n",
    "    vectorizer = CountVectorizer(max_df=0.95, min_df=2)\n",
    "    X = vectorizer.fit_transform(df['Cleaned_Body'])\n",
    "\n",
    "    # Réduction de dimension avec TruncatedSVD : réduit la dimensionnalité des vecteurs BoW\n",
    "    svd = TruncatedSVD(n_components=100)\n",
    "    X_reduced = svd.fit_transform(X)\n",
    "\n",
    "    # Transformation des tags : convertit les tags en une forme utilisable pour l'apprentissage supervisé\n",
    "    mlb = MultiLabelBinarizer(classes=top_tags)\n",
    "    y = mlb.fit_transform(df['Filtered_Tags'])\n",
    "\n",
    "\n",
    "    return X_reduced, y, vectorizer, svd, mlb"
   ]
  },
  {
   "cell_type": "code",
   "execution_count": null,
   "metadata": {},
   "outputs": [],
   "source": [
    "def train_word2vec(df, column='Cleaned_Body', vector_size=50, window=5, min_count=3, workers=4):\n",
    "    sentences = df[column].apply(word_tokenize).tolist()\n",
    "    word2vec_model = Word2Vec(sentences, vector_size=vector_size, window=window, min_count=min_count, workers=workers)\n",
    "    def document_vector(doc):\n",
    "        doc = [word for word in doc if word in word2vec_model.wv.index_to_key]\n",
    "        return np.mean(word2vec_model.wv[doc], axis=0) if doc else np.zeros(vector_size)\n",
    "    \n",
    "    df['word2vec_vector'] = df[column].apply(lambda x: document_vector(word_tokenize(x)))\n",
    "    \n",
    "    X_word2vec = np.vstack(df['word2vec_vector'].values)\n",
    "    word2vec_model.save('model/word2vec')\n",
    "    return X_word2vec\n",
    "\n",
    "X_word2vec = train_word2vec(df)"
   ]
  },
  {
   "cell_type": "code",
   "execution_count": null,
   "metadata": {},
   "outputs": [],
   "source": [
    "\n",
    "model = hub.load(\"https://tfhub.dev/google/universal-sentence-encoder/4\")\n",
    "\n",
    "def get_use_embedding(text):\n",
    "    return model([text]).numpy().flatten()\n",
    "\n",
    "df['use_embedding'] = df['Cleaned_Body'].apply(lambda x: get_use_embedding(x))\n",
    "\n",
    "X_use = np.vstack(df['use_embedding'].values)\n"
   ]
  },
  {
   "cell_type": "code",
   "execution_count": null,
   "metadata": {},
   "outputs": [],
   "source": []
  },
  {
   "cell_type": "code",
   "execution_count": null,
   "metadata": {},
   "outputs": [],
   "source": [
    "X_reduced, y, vectorizer, svd, mlb = transform_text_to_bow(df)\n",
    "\n",
    "# Vérification que X_reduced et y ne sont pas None\n",
    "print(\"Shape of X_reduced:\", X_reduced.shape if X_reduced is not None else \"X_reduced is None\")\n",
    "print(\"Shape of y:\", y.shape if y is not None else \"y is None\")\n"
   ]
  },
  {
   "cell_type": "code",
   "execution_count": null,
   "metadata": {},
   "outputs": [],
   "source": [
    "# Sauvegarde avec pickle de quelques valeurs a travailler dans un autre notebook\n",
    "\n",
    "import pickle\n",
    "\n",
    "# Sauvegarde des objets\n",
    "with open('model/X_reduced.pkl', 'wb') as f:\n",
    "    pickle.dump(X_reduced, f)\n",
    "\n",
    "with open('model/y.pkl', 'wb') as f:\n",
    "    pickle.dump(y, f)\n",
    "\n",
    "with open('model/vectorizer.pkl', 'wb') as f:\n",
    "    pickle.dump(vectorizer, f)\n",
    "\n",
    "with open('model/svd.pkl', 'wb') as f:\n",
    "    pickle.dump(svd, f)\n",
    "\n",
    "with open('model/top_tags.pkl', 'wb') as f:\n",
    "    pickle.dump(top_tags, f)\n",
    "\n",
    "# Affichage de top_tags après la sauvegarde\n",
    "print(top_tags)\n"
   ]
  }
 ],
 "metadata": {
  "kernelspec": {
   "display_name": "Python 3",
   "language": "python",
   "name": "python3"
  },
  "language_info": {
   "codemirror_mode": {
    "name": "ipython",
    "version": 3
   },
   "file_extension": ".py",
   "mimetype": "text/x-python",
   "name": "python",
   "nbconvert_exporter": "python",
   "pygments_lexer": "ipython3",
   "version": "3.12.4"
  }
 },
 "nbformat": 4,
 "nbformat_minor": 2
}
