{
 "cells": [
  {
   "cell_type": "code",
   "execution_count": null,
   "metadata": {},
   "outputs": [],
   "source": [
    "import tensorflow as tf\n",
    "from tensorflow.keras.models import Sequential\n",
    "from tensorflow.keras.layers import Dense, Dropout, Input\n",
    "from tensorflow.keras.callbacks import TensorBoard, EarlyStopping, ModelCheckpoint\n",
    "from sklearn.model_selection import train_test_split\n",
    "import matplotlib.pyplot as plt\n",
    "import tensorflow as tf\n",
    "import datetime\n",
    "import pickle\n",
    "\n"
   ]
  },
  {
   "cell_type": "code",
   "execution_count": null,
   "metadata": {},
   "outputs": [],
   "source": [
    "def load_data(x_path='X_reduced.pkl', y_path='y.pkl'):\n",
    "    with open(x_path, 'rb') as f:\n",
    "        X = pickle.load(f)\n",
    "    with open(y_path, 'rb') as f:\n",
    "        y = pickle.load(f)\n",
    "    return X, y\n",
    "\n",
    "\n",
    "def load_model_objects():\n",
    "    with open('vectorizer.pkl', 'rb') as f:\n",
    "        vectorizer = pickle.load(f)\n",
    "    with open('svd.pkl', 'rb') as f:\n",
    "        svd = pickle.load(f)\n",
    "    with open('top_tags.pkl', 'rb') as f:\n",
    "        top_tags = pickle.load(f)\n",
    "    return vectorizer, svd, top_tags\n",
    "\n",
    "\n",
    "print(top_tags)"
   ]
  },
  {
   "cell_type": "code",
   "execution_count": null,
   "metadata": {},
   "outputs": [],
   "source": [
    "\n",
    "def split_data(X, y, test_size=0.2, random_state=42):\n",
    "    return train_test_split(X, y, test_size=test_size, random_state=random_state)\n"
   ]
  },
  {
   "cell_type": "code",
   "execution_count": null,
   "metadata": {},
   "outputs": [],
   "source": [
    "def build_model(input_shape, output_shape):\n",
    "    model = Sequential([\n",
    "        Input(shape=(input_shape,)),\n",
    "        Dense(128, activation='relu'),\n",
    "        Dropout(0.5),\n",
    "        Dense(64, activation='relu'),\n",
    "        Dropout(0.5),\n",
    "        Dense(output_shape, activation='sigmoid')\n",
    "    ])\n",
    "    model.compile(loss='binary_crossentropy', optimizer='adam', metrics=['accuracy'])\n",
    "    return model\n"
   ]
  },
  {
   "cell_type": "code",
   "execution_count": null,
   "metadata": {},
   "outputs": [],
   "source": [
    "def train_model(model, X_train, y_train, X_val, y_val, log_dir=\"logs/fit\"):\n",
    "    log_dir = log_dir + \"/\" + datetime.datetime.now().strftime(\"%Y%m%d-%H%M%S\")\n",
    "    tensorboard_callback = TensorBoard(log_dir=log_dir, histogram_freq=1)\n",
    "    early_stopping_callback = EarlyStopping(monitor='val_loss', patience=5, restore_best_weights=True)\n",
    "    checkpoint_callback = ModelCheckpoint('best_model.keras', save_best_only=True, monitor='val_loss', mode='min')\n",
    "\n",
    "    history = model.fit(\n",
    "        X_train, y_train,\n",
    "        epochs=10,\n",
    "        batch_size=32,\n",
    "        validation_data=(X_val, y_val),\n",
    "        callbacks=[tensorboard_callback, early_stopping_callback, checkpoint_callback]\n",
    "    )\n",
    "    return history"
   ]
  },
  {
   "cell_type": "code",
   "execution_count": null,
   "metadata": {},
   "outputs": [],
   "source": [
    "\n",
    "def evaluate_model(model, X_test, y_test):\n",
    "    loss, accuracy = model.evaluate(X_test, y_test)\n",
    "    print(f'Loss: {loss}, Accuracy: {accuracy}')\n",
    "    return loss, accuracy\n",
    "\n",
    "def plot_training_history(history):\n",
    "    plt.figure(figsize=(12, 4))\n",
    "    plt.subplot(1, 2, 1)\n",
    "    plt.plot(history.history['loss'], label='Train Loss')\n",
    "    plt.plot(history.history['val_loss'], label='Validation Loss')\n",
    "    plt.xlabel('Epoch')\n",
    "    plt.ylabel('Loss')\n",
    "    plt.legend()\n",
    "    plt.title('Loss over epochs')\n",
    "\n",
    "    plt.subplot(1, 2, 2)\n",
    "    plt.plot(history.history['accuracy'], label='Train Accuracy')\n",
    "    plt.plot(history.history['val_accuracy'], label='Validation Accuracy')\n",
    "    plt.xlabel('Epoch')\n",
    "    plt.ylabel('Accuracy')\n",
    "    plt.legend()\n",
    "    plt.title('Accuracy over epochs')\n",
    "\n",
    "    plt.show()"
   ]
  },
  {
   "cell_type": "code",
   "execution_count": null,
   "metadata": {},
   "outputs": [],
   "source": [
    "X, y = load_data()\n",
    "vectorizer, svd, top_tags = load_model_objects()\n",
    "\n",
    "X_train, X_test, y_train, y_test = split_data(X, y)\n",
    "\n",
    "model = build_model(X_train.shape[1], y_train.shape[1])\n",
    "\n",
    "history = train_model(model, X_train, y_train, X_test, y_test)\n",
    "\n",
    "evaluate_model(model, X_test, y_test)\n",
    "\n",
    "plot_training_history(history)"
   ]
  },
  {
   "cell_type": "code",
   "execution_count": null,
   "metadata": {},
   "outputs": [],
   "source": [
    "\n",
    "def transform_text_to_bow(text, vectorizer, svd):\n",
    "    X_bow = vectorizer.transform([text])\n",
    "\n",
    "    X_reduced = svd.transform(X_bow)\n",
    "\n",
    "    return X_reduced\n",
    "\n",
    "new_question_text = \"help me please i didn't success to install\"\n",
    "new_question_vector = transform_text_to_bow(new_question_text, vectorizer, svd)\n",
    "\n",
    "predicted_tags = model.predict(new_question_vector)  \n",
    "\n",
    "predicted_tags = (predicted_tags > 0.1).astype(int)\n",
    "\n",
    "predicted_tag_names = [top_tags[i] for i in range(len(predicted_tags[0])) if predicted_tags[0][i] == 1]\n",
    "\n",
    "print(top_tags)\n",
    "\n",
    "print(\"Tags suggérés :\", predicted_tag_names)\n",
    "\n",
    "\n",
    "predicted_tags_probabilities = model.predict(new_question_vector)\n",
    "\n",
    "print(\"Probabilités prédites :\", predicted_tags_probabilities)\n"
   ]
  }
 ],
 "metadata": {
  "kernelspec": {
   "display_name": ".venv",
   "language": "python",
   "name": "python3"
  },
  "language_info": {
   "codemirror_mode": {
    "name": "ipython",
    "version": 3
   },
   "file_extension": ".py",
   "mimetype": "text/x-python",
   "name": "python",
   "nbconvert_exporter": "python",
   "pygments_lexer": "ipython3",
   "version": "3.12.4"
  }
 },
 "nbformat": 4,
 "nbformat_minor": 2
}
