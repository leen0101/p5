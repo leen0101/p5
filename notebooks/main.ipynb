{
 "cells": [
  {
   "cell_type": "code",
   "execution_count": null,
   "metadata": {},
   "outputs": [],
   "source": [
    "import pandas as pd\n",
    "import re\n",
    "import matplotlib.pyplot as plt\n",
    "import seaborn as sns\n"
   ]
  },
  {
   "cell_type": "code",
   "execution_count": null,
   "metadata": {},
   "outputs": [],
   "source": [
    "pd.set_option('display.max_rows', 50)\n",
    "pd.set_option('display.max_columns', None)\n",
    "pd.set_option('display.width', None)\n",
    "pd.set_option('display.max_colwidth', None)"
   ]
  },
  {
   "cell_type": "code",
   "execution_count": null,
   "metadata": {},
   "outputs": [],
   "source": [
    "df = pd.read_csv('db/questions_db.csv')\n",
    "print(df.head)"
   ]
  },
  {
   "cell_type": "code",
   "execution_count": null,
   "metadata": {},
   "outputs": [],
   "source": [
    "# Nettoie le texte \n",
    "def clean_text(text):\n",
    "    if isinstance(text, str):\n",
    "        # Enleve le HTML\n",
    "        text = re.sub(r'<.*?>', '', text)\n",
    "        # Enleve les caractères spéciaux\n",
    "        text = re.sub(r'[^a-zA-Z0-9\\s]', '', text)\n",
    "        # Converti en minuscule\n",
    "        text = text.lower()\n",
    "    return text\n",
    "\n",
    "\n",
    "def process_tags(tags):\n",
    "    if isinstance(tags, str):\n",
    "        return tags.strip('<>').split('><')\n",
    "    else:\n",
    "        return []\n",
    "\n",
    "df['Tags'] = df['Tags'].apply(process_tags)\n",
    "\n",
    "\n",
    "\n",
    "# Nettoyage\n",
    "df['Title'] = df['Title'].apply(clean_text)\n",
    "df['Body'] = df['Body'].apply(clean_text)\n",
    "\n",
    "\n",
    "print(df.head())\n"
   ]
  },
  {
   "cell_type": "code",
   "execution_count": null,
   "metadata": {},
   "outputs": [],
   "source": [
    "def check_missing_values(df):\n",
    "    missing_values = df.isnull().sum()\n",
    "    print(\"Nombre de valeurs manquantes par colonne:\")\n",
    "    print(missing_values)\n",
    "    if missing_values.any():\n",
    "        print(\"\\nColonnes avec valeurs manquantes:\")\n",
    "        print(missing_values[missing_values > 0])\n",
    "    else:\n",
    "        print(\"Aucune valeur manquante trouvée.\")\n",
    "\n",
    "check_missing_values(df)"
   ]
  },
  {
   "cell_type": "code",
   "execution_count": null,
   "metadata": {},
   "outputs": [],
   "source": [
    "\n",
    "all_tags = [tag for tags in df['Tags'] for tag in tags]\n",
    "tag_counts = pd.Series(all_tags).value_counts().head(100)\n",
    "\n",
    "plt.figure(figsize=(12, 18))\n",
    "sns.barplot(x=tag_counts.values, y=tag_counts.index)\n",
    "plt.title('Top 20 des Tags les plus fréquents')\n",
    "plt.xlabel('Fréquence')\n",
    "plt.ylabel('Tags')\n",
    "plt.show()"
   ]
  },
  {
   "cell_type": "code",
   "execution_count": null,
   "metadata": {},
   "outputs": [],
   "source": [
    "def check_html_special_chars(text):\n",
    "    if isinstance(text, str):\n",
    "        html_tags = re.findall(r'<.*?>', text)\n",
    "        special_chars = re.findall(r'[^a-zA-Z0-9\\s]', text)\n",
    "        return len(html_tags) + len(special_chars)\n",
    "    return 0\n",
    "\n",
    "df['Title_html_special'] = df['Title'].apply(check_html_special_chars)\n",
    "df['Body_html_special'] = df['Body'].apply(check_html_special_chars)\n",
    "\n",
    "print(\"Occurrences de caractères HTML ou spéciaux restants dans les titres\")\n",
    "print(df['Title_html_special'].value_counts())\n",
    "print(\"Occurrences de caractères HTML ou spéciaux restants dans les corps\")\n",
    "print(df['Body_html_special'].value_counts())\n",
    "\n",
    "# Vérification des tags\n",
    "print(\"Vérification des tags\")\n",
    "print(df['Tags'].head(10))\n",
    "\n",
    "# Afficher le tableau complet sans limite\n",
    "print(df)"
   ]
  },
  {
   "cell_type": "code",
   "execution_count": null,
   "metadata": {},
   "outputs": [],
   "source": [
    "def add_features(df):\n",
    "    # Longueur du titre\n",
    "    df['Title_length'] = df['Title'].apply(lambda x: len(x.split()) if isinstance(x, str) else 0)\n",
    "    # Nombre de mots dans le corps\n",
    "    df['Body_word_count'] = df['Body'].apply(lambda x: len(x.split()) if isinstance(x, str) else 0)\n",
    "    # Nombre de tags\n",
    "    df['Tag_count'] = df['Tags'].apply(lambda x: len(x) if isinstance(x, list) else 0)\n",
    "    return df\n",
    "\n",
    "# Ajoute les features supplémentaires\n",
    "df = add_features(df)\n",
    "print(df.head(10))\n"
   ]
  },
  {
   "cell_type": "code",
   "execution_count": null,
   "metadata": {},
   "outputs": [],
   "source": [
    "df.info()\n"
   ]
  },
  {
   "cell_type": "code",
   "execution_count": null,
   "metadata": {},
   "outputs": [],
   "source": [
    "df = df.drop(columns=['FavoriteCount'])\n"
   ]
  },
  {
   "cell_type": "markdown",
   "metadata": {},
   "source": [
    "## Analyse multivariée\n"
   ]
  },
  {
   "cell_type": "code",
   "execution_count": null,
   "metadata": {},
   "outputs": [],
   "source": [
    "cols_to_analyze = ['Score', 'ViewCount', 'AnswerCount', 'Title_length', 'Body_word_count', 'Tag_count']\n",
    "score_col = 'Score'\n",
    "view_col = 'ViewCount'\n",
    "favorite_col = 'FavoriteCount'"
   ]
  },
  {
   "cell_type": "code",
   "execution_count": null,
   "metadata": {},
   "outputs": [],
   "source": [
    "def analyse_univariee_multivariee(df, cols):\n",
    "    print(\"Analyse Univariée\")\n",
    "    for column in cols:\n",
    "        if column in df.columns:\n",
    "            plt.figure(figsize=(10, 6))\n",
    "            sns.histplot(df[column], kde=True)\n",
    "            plt.title(f'Distribution de {column}')\n",
    "            plt.xlabel(column)\n",
    "            plt.ylabel('Fréquence')\n",
    "            plt.show()\n",
    "        \n",
    "    print(\"Analyse Multivariée\")\n",
    "    sns.pairplot(df[cols].select_dtypes(include=['int64', 'float64']))\n",
    "    plt.show()\n",
    "\n",
    "\n",
    "analyse_univariee_multivariee(df, cols_to_analyze)\n"
   ]
  },
  {
   "cell_type": "code",
   "execution_count": null,
   "metadata": {},
   "outputs": [],
   "source": [
    "print(df.describe())"
   ]
  },
  {
   "cell_type": "code",
   "execution_count": null,
   "metadata": {},
   "outputs": [],
   "source": [
    "def distribution_scores_vues_favoris(df, score_col, view_col, favorite_col):\n",
    "    if score_col in df.columns:\n",
    "        plt.figure(figsize=(10, 6))\n",
    "        sns.histplot(df[score_col], bins=30, kde=True)\n",
    "        plt.title(f'Distribution de {score_col}')\n",
    "        plt.xlabel(score_col)\n",
    "        plt.ylabel('Fréquence')\n",
    "        plt.show()\n",
    "    \n",
    "    if view_col in df.columns:\n",
    "        plt.figure(figsize=(10, 6))\n",
    "        sns.histplot(df[view_col], bins=30, kde=True)\n",
    "        plt.title(f'Distribution de {view_col}')\n",
    "        plt.xlabel(view_col)\n",
    "        plt.ylabel('Fréquence')\n",
    "        plt.show()\n",
    "    \n",
    "    if favorite_col in df.columns and df[favorite_col].notnull().sum() > 0:\n",
    "        plt.figure(figsize=(10, 6))\n",
    "        sns.histplot(df[favorite_col], bins=30, kde=True)\n",
    "        plt.title(f'Distribution de {favorite_col}')\n",
    "        plt.xlabel(favorite_col)\n",
    "        plt.ylabel('Fréquence')\n",
    "        plt.show()\n",
    "    else:\n",
    "        print(f\"La colonne {favorite_col} est vide ou n'existe pas.\")\n"
   ]
  },
  {
   "cell_type": "code",
   "execution_count": null,
   "metadata": {},
   "outputs": [],
   "source": [
    "def correlation_variables(df, cols):\n",
    "    corr_matrix = df[cols].corr()\n",
    "    plt.figure(figsize=(12, 8))\n",
    "    sns.heatmap(corr_matrix, annot=True, cmap='coolwarm')\n",
    "    plt.title('Matrice de Corrélation')\n",
    "    plt.show()\n",
    "    \n",
    "    \n",
    "correlation_variables(df, cols_to_analyze)\n"
   ]
  },
  {
   "cell_type": "markdown",
   "metadata": {},
   "source": [
    "### Tokenization + stopwords + lemmatization"
   ]
  },
  {
   "cell_type": "code",
   "execution_count": null,
   "metadata": {},
   "outputs": [],
   "source": [
    "import nltk\n",
    "from nltk.tokenize import word_tokenize\n",
    "from nltk.corpus import stopwords\n",
    "from nltk.stem import WordNetLemmatizer\n",
    "\n",
    "# nltk.download('punkt')\n",
    "# nltk.download('stopwords')\n",
    "# nltk.download('wordnet')\n",
    "\n",
    "# Nettoie le texte des mots vides\n",
    "def treatments_text(text):\n",
    "    # Tokenization\n",
    "    tokens = word_tokenize(text)\n",
    "    \n",
    "    # Suppression des stop words\n",
    "    stop_words = set(stopwords.words('english'))\n",
    "    tokens = [word for word in tokens if word.lower() not in stop_words]\n",
    "    \n",
    "    # Lemmatization\n",
    "    lemmatizer = WordNetLemmatizer()\n",
    "    tokens = [lemmatizer.lemmatize(word) for word in tokens]\n",
    "    \n",
    "    return ' '.join(tokens)\n",
    "\n",
    "# Colonnes Title et Body\n",
    "def clean_dataframe(df):\n",
    "    df['Cleaned_Title'] = df['Title'].apply(treatments_text)\n",
    "    df['Cleaned_Body'] = df['Body'].apply(treatments_text)\n",
    "    return df\n",
    "\n",
    "df = clean_dataframe(df)\n",
    "\n",
    "# Verification\n",
    "print(df[['Title', 'Cleaned_Title', 'Body', 'Cleaned_Body']].head())\n"
   ]
  }
 ],
 "metadata": {
  "kernelspec": {
   "display_name": "Python 3",
   "language": "python",
   "name": "python3"
  },
  "language_info": {
   "codemirror_mode": {
    "name": "ipython",
    "version": 3
   },
   "file_extension": ".py",
   "mimetype": "text/x-python",
   "name": "python",
   "nbconvert_exporter": "python",
   "pygments_lexer": "ipython3",
   "version": "3.12.4"
  }
 },
 "nbformat": 4,
 "nbformat_minor": 2
}
