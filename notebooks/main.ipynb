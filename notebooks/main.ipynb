{
 "cells": [
  {
   "cell_type": "code",
   "execution_count": null,
   "metadata": {},
   "outputs": [],
   "source": [
    "import pandas as pd\n",
    "import re\n",
    "import matplotlib.pyplot as plt\n",
    "import seaborn as sns\n"
   ]
  },
  {
   "cell_type": "code",
   "execution_count": null,
   "metadata": {},
   "outputs": [],
   "source": [
    "pd.set_option('display.max_rows', 50)\n",
    "pd.set_option('display.max_columns', None)\n",
    "pd.set_option('display.width', None)\n",
    "pd.set_option('display.max_colwidth', None)"
   ]
  },
  {
   "cell_type": "code",
   "execution_count": null,
   "metadata": {},
   "outputs": [],
   "source": [
    "df = pd.read_csv('db/questions_db.csv')\n",
    "print(df.head)"
   ]
  },
  {
   "cell_type": "code",
   "execution_count": null,
   "metadata": {},
   "outputs": [],
   "source": [
    "# Nettoie le texte \n",
    "def clean_text(text):\n",
    "    if isinstance(text, str):\n",
    "        # Enleve le HTML\n",
    "        text = re.sub(r'<.*?>', '', text)\n",
    "        # Enleve les caractères spéciaux\n",
    "        text = re.sub(r'[^a-zA-Z0-9\\s]', '', text)\n",
    "        # Converti en minuscule\n",
    "        text = text.lower()\n",
    "    return text\n",
    "\n",
    "\n",
    "def process_tags(tags):\n",
    "    if isinstance(tags, str):\n",
    "        return tags.strip('<>').split('><')\n",
    "    else:\n",
    "        return []\n",
    "\n",
    "df['Tags'] = df['Tags'].apply(process_tags)\n",
    "\n",
    "\n",
    "\n",
    "# Nettoyage\n",
    "df['Title'] = df['Title'].apply(clean_text)\n",
    "df['Body'] = df['Body'].apply(clean_text)\n",
    "\n",
    "\n",
    "print(df.head())\n"
   ]
  },
  {
   "cell_type": "code",
   "execution_count": null,
   "metadata": {},
   "outputs": [],
   "source": [
    "\n",
    "all_tags = [tag for tags in df['Tags'] for tag in tags]\n",
    "tag_counts = pd.Series(all_tags).value_counts().head(100)\n",
    "\n",
    "plt.figure(figsize=(12, 18))\n",
    "sns.barplot(x=tag_counts.values, y=tag_counts.index)\n",
    "plt.title('Top 20 des Tags les plus fréquents')\n",
    "plt.xlabel('Fréquence')\n",
    "plt.ylabel('Tags')\n",
    "plt.show()"
   ]
  }
 ],
 "metadata": {
  "kernelspec": {
   "display_name": "Python 3",
   "language": "python",
   "name": "python3"
  },
  "language_info": {
   "codemirror_mode": {
    "name": "ipython",
    "version": 3
   },
   "file_extension": ".py",
   "mimetype": "text/x-python",
   "name": "python",
   "nbconvert_exporter": "python",
   "pygments_lexer": "ipython3",
   "version": "3.12.4"
  }
 },
 "nbformat": 4,
 "nbformat_minor": 2
}
